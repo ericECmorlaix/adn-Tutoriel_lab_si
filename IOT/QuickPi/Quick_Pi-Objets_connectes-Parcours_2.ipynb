{
 "cells": [
  {
   "cell_type": "markdown",
   "metadata": {},
   "source": [
    "# Parcours 2 : des objets qui mémorisent"
   ]
  },
  {
   "cell_type": "markdown",
   "metadata": {},
   "source": [
    "Rendez-vous à l'adresse : https://amazon.quick-pi.org/ pour apprendre à programmer vos objets connectés en Python en réalisant les activités du Parcours 2.\n",
    "\n",
    "Copier ci-dessous le code d'accès personnel que vous avez obtenu :"
   ]
  },
  {
   "cell_type": "markdown",
   "metadata": {},
   "source": [
    "........."
   ]
  },
  {
   "cell_type": "markdown",
   "metadata": {},
   "source": [
    "<a id =\"sommeil\"></a>\n",
    "Lisez la présentation pour [programmer en Python](#programmer_python) , [écrire](#ecrire), [tester](#tester) puis [valider](#valider) votre programme avec [l'interface de FranceIOI](#interface).\n",
    "\n",
    "> Au fur et à mesure que vous expérimentez et validez vos programmes **par simulation** pour chaque cdcf, recopier votre script dans les cellules de code vides ci-dessous...\n",
    "\n",
    "## Sommeil agréable :\n",
    "![1-sommeil-agreable/icon.png](https://static4.castor-informatique.fr/contests/quickpi_parcours_a_2p.1586024594/1-sommeil-agreable/icon.png)\n",
    "Lisez la présentation du [thermomètre](#thermometre), du [Capteur de luminosité](#luminosite), du [Microphone](#microphone), des [opérateurs de comparaison](#operateurs_comparaison), des [opérateurs logiques](#operateurs_logiques),  de [la boucle infinie](#boucle_infinie), de [l'instruction if/else](#if/else), des [LEDs](#leds) et de [la gestion du temps](#sleep)."
   ]
  },
  {
   "cell_type": "markdown",
   "metadata": {},
   "source": [
    "Écrire un programme qui toutes les 50ms, allume la LED verte si la température est entre 16 et 18 degrés inclus, et la LED rouge sinon. L'autre LED doit être éteinte.\n",
    "\n",
    "Votre programme ne peut contenir qu'une seule fois l'instruction if."
   ]
  },
  {
   "cell_type": "code",
   "execution_count": null,
   "metadata": {},
   "outputs": [],
   "source": [
    "from quickpi import *\n"
   ]
  },
  {
   "cell_type": "markdown",
   "metadata": {},
   "source": [
    "Écrire un programme qui toutes les 50ms, allume la LED verte si :\n",
    "- la température est entre 16 et 18 degrés inclus\n",
    "- la luminosité est inférieure ou égale à 10%\n",
    "\n",
    "Il doit allumer la LED bleue si un seul des deux critères est validé, et la LED rouge si aucun ne l'est.\n",
    "\n",
    "Votre programme ne peut contenir que deux fois l'instruction if."
   ]
  },
  {
   "cell_type": "code",
   "execution_count": null,
   "metadata": {},
   "outputs": [],
   "source": [
    "from quickpi import *\n"
   ]
  },
  {
   "cell_type": "markdown",
   "metadata": {},
   "source": [
    "Écrire un programme qui toutes les 50ms, allume la LED verte si :\n",
    "- la température est entre 16 et 18 degrés inclus\n",
    "- la luminosité est inférieure ou égale à 10%\n",
    "- le volume de bruit est inférieur ou égal à 20\n",
    "\n",
    "Il doit allumer la LED bleue si deux des trois critères sont validés, et la LED rouge si un seul ou aucun ne l'est.\n",
    "\n",
    "Votre programme ne peut contenir que deux fois l'instruction if."
   ]
  },
  {
   "cell_type": "code",
   "execution_count": null,
   "metadata": {},
   "outputs": [],
   "source": [
    "from quickpi import *\n"
   ]
  },
  {
   "cell_type": "markdown",
   "metadata": {},
   "source": [
    "<a id =\"reveil\"></a>\n",
    "## Réveil matin :\n",
    "![2-reveil-matin/icon.png](https://static4.castor-informatique.fr/contests/quickpi_parcours_a_2p.1586024594/2-reveil-matin/icon.png)\n",
    "\n",
    "Lisez la présentation du [Capteur de luminosité](#luminosite), de [la boucle répéter tant que ou jusqu'à avec l'instruction `while`](#while), du [buzzer](#buzzer), du [bouton poussoir](#bouton_poussoir), de [la manette](#manette) et de [la gestion du temps](#sleep)."
   ]
  },
  {
   "cell_type": "markdown",
   "metadata": {},
   "source": [
    "Écrire un programme qui teste la luminosité toutes les 50ms.\n",
    "\n",
    "Dès qu'il fait jour, soit 15% de luminosité ou plus, il doit allumer le buzzer et se terminer."
   ]
  },
  {
   "cell_type": "code",
   "execution_count": null,
   "metadata": {},
   "outputs": [],
   "source": [
    "from quickpi import *\n"
   ]
  },
  {
   "cell_type": "markdown",
   "metadata": {},
   "source": [
    "Modifier le programme de la version précédente pour que le buzzer s'éteigne lorsque l'on appuie sur le bouton."
   ]
  },
  {
   "cell_type": "code",
   "execution_count": null,
   "metadata": {},
   "outputs": [],
   "source": [
    "from quickpi import *\n"
   ]
  },
  {
   "cell_type": "markdown",
   "metadata": {},
   "source": [
    "Modifier le programme de la version précédente, pour qu'à chaque fois que l'on éteint le buzzer, il se rallume 2 secondes après l'appui sur le bouton.\n",
    "\n",
    "Le programme doit cependant se terminer en laissant le buzzer éteint, si au moment de rallumer celui-ci, le bouton et le centre du stick sont tous deux enfoncés.\n",
    "\n",
    "Astuce : commencer un clic sur le bouton, se déplacer et relâcher le clic nettement plus loin permet de le laisser bloqué en position enfoncée."
   ]
  },
  {
   "cell_type": "code",
   "execution_count": null,
   "metadata": {},
   "outputs": [],
   "source": [
    "from quickpi import *\n"
   ]
  },
  {
   "cell_type": "markdown",
   "metadata": {},
   "source": [
    "<a id =\"secousses\"></a>\n",
    "## Secousses\n",
    "![3-secousses/icon.png](https://static4.castor-informatique.fr/contests/quickpi_parcours_a_2p.1586024594/3-secousses/icon.png)\n",
    "\n",
    "Lisez la présentation des [variables](#variables), de [l'accéléromètre](#accelerometre), de [l'instruction if](#if),, des [opérateurs logiques](#operateurs_logiques), de [la boucle infinie](#boucle_infinie), du [bouton poussoir](#bouton_poussoir), de [la manette](#manette), de [l'écran](#ecran) et de [la gestion du temps](#sleep)."
   ]
  },
  {
   "cell_type": "markdown",
   "metadata": {},
   "source": [
    "Écrire un programme qui met une variable nombreSecousses à 0 au départ puis toutes les 50ms, teste si l'accélération en z dépasse 30m/s², et ajoute 1 à nombreSecousses. Le programme doit afficher la valeur de nombreSecousses juste après chaque modification."
   ]
  },
  {
   "cell_type": "code",
   "execution_count": null,
   "metadata": {},
   "outputs": [],
   "source": [
    "from quickpi import *\n"
   ]
  },
  {
   "cell_type": "markdown",
   "metadata": {},
   "source": [
    "Modifier le programme de la version précédente pour qu'il compte aussi une secousse dans l'autre sens, donc si l'accélération en z passe en dessous de -30m/s².\n",
    "\n",
    "Le programme doit aussi remettre nombreSecousses à zéro lorsque l'on appuie sur le bouton."
   ]
  },
  {
   "cell_type": "code",
   "execution_count": null,
   "metadata": {},
   "outputs": [],
   "source": [
    "from quickpi import *\n"
   ]
  },
  {
   "cell_type": "markdown",
   "metadata": {},
   "source": [
    "Modifier le programme de la version précédente pour que le programme n'ajoute 1 à nombreSecousses que s'il l'accélération en z a d'abord dépassé 30m/s², avant de passer en dessous de -30m/s².\n",
    "\n",
    "Le bouton de remise à zéro doit continuer à fonctionner à tout moment."
   ]
  },
  {
   "cell_type": "code",
   "execution_count": null,
   "metadata": {},
   "outputs": [],
   "source": [
    "from quickpi import *\n"
   ]
  },
  {
   "cell_type": "markdown",
   "metadata": {},
   "source": [
    "<a id =\"detecteur_mouvements\"></a>\n",
    "## Détecteur de mouvements :\n",
    "![detecteur-mouvements/icon.png](https://static4.castor-informatique.fr/contests/quickpi_parcours_a_2p.1586024594/4-detecteur-mouvements/icon.png)\n",
    "\n",
    "Lisez la présentation des [variables](#variables), de [l'instruction if/else](#if/else), des [opérateurs logiques](#operateurs_logiques), de [la boucle infinie](#boucle_infinie), des [LEDs](#leds), du [capteur de distance](#capteur_distance), de [la manette](#manette), de [l'écran](#ecran) et de [la gestion du temps](#sleep).  "
   ]
  },
  {
   "cell_type": "markdown",
   "metadata": {},
   "source": [
    "Écrire un programme qui mesure la distance toutes les 500ms, et allume la LED si la distance mesurée est différente de la précédente distance.\n",
    "\n",
    "La LED doit être éteinte juste avant la mesure suivante."
   ]
  },
  {
   "cell_type": "code",
   "execution_count": null,
   "metadata": {},
   "outputs": [],
   "source": [
    "from quickpi import *\n"
   ]
  },
  {
   "cell_type": "markdown",
   "metadata": {},
   "source": [
    "Modifier le programme de la version précédente pour que la LED ne s'allume que si la différence entre la nouvelle distance et la précédente est d'au moins 20cm, dans un sens ou dans l'autre."
   ]
  },
  {
   "cell_type": "code",
   "execution_count": null,
   "metadata": {},
   "outputs": [],
   "source": [
    "from quickpi import *\n"
   ]
  },
  {
   "cell_type": "markdown",
   "metadata": {},
   "source": [
    "Modifier le programme de la version précédente pour que l'on puisse régler et afficher la différence à partir de laquelle la LED s'allume.\n",
    "\n",
    "Elle doit être à 20 au départ, augmenter de 1 si l'on appuie sur le bouton du haut, et diminuer de 1 si l'on appuie sur le bouton du bas, sans jamais passer en dessous de 1 ou au dessus de 100.\n",
    "\n",
    "L'état des boutons doit être lu toutes les 500ms, au même moment que la distance."
   ]
  },
  {
   "cell_type": "code",
   "execution_count": null,
   "metadata": {},
   "outputs": [],
   "source": [
    "from quickpi import *\n"
   ]
  },
  {
   "cell_type": "markdown",
   "metadata": {},
   "source": [
    "<a id =\"sirene\"></a>\n",
    "## Sirène :\n",
    "![5-sirene/icon.png](https://static4.castor-informatique.fr/contests/quickpi_parcours_a_2p.1586024594/5-sirene/icon.png)\n",
    "\n",
    "Lisez la présentation des [variables](#variables), de [l'instruction if/else](#if/else), des [opérateurs logiques](#operateurs_logiques), de [la boucle infinie](#boucle_infinie), de [la boucle répéter tant que ou jusqu'à avec l'instruction `while`](#while), du [buzzer](#buzzer) et de [la gestion du temps](#sleep)."
   ]
  },
  {
   "cell_type": "markdown",
   "metadata": {},
   "source": [
    "Ecrire un programme qui joue une sirène : il commence par jouer une note à la fréquence 100Hz, puis joue des notes de plus en plus aigues, en augmentant de 100Hz toutes les 20ms.\n",
    "\n",
    "Le programme doit repartir à la fréquence 100Hz après avoir atteint 1000Hz."
   ]
  },
  {
   "cell_type": "code",
   "execution_count": null,
   "metadata": {},
   "outputs": [],
   "source": [
    "from quickpi import *\n"
   ]
  },
  {
   "cell_type": "markdown",
   "metadata": {},
   "source": [
    "Modifier le programme de la version précédente pour qu'une fois la fréquence 1000Hz atteinte, on change de sens et diminue de 100Hz toutes les 20ms. Lorsque l'on atteint 100Hz, le programme reprend au début."
   ]
  },
  {
   "cell_type": "code",
   "execution_count": null,
   "metadata": {},
   "outputs": [],
   "source": [
    "from quickpi import *\n"
   ]
  },
  {
   "cell_type": "markdown",
   "metadata": {},
   "source": [
    "Modifier le programme de la version précédente pour que la durée des notes commence à 500ms, puis diminue de 10ms après chaque note.\n",
    "\n",
    "La première note dure 500ms, la deuxième 490ms, etc. Après être arrivé à un délai de 10ms, on repart à 500ms."
   ]
  },
  {
   "cell_type": "code",
   "execution_count": null,
   "metadata": {},
   "outputs": [],
   "source": [
    "from quickpi import *\n"
   ]
  },
  {
   "cell_type": "markdown",
   "metadata": {},
   "source": [
    "<a id =\"applaudimetre\"></a>\n",
    "## Applaudimètre :\n",
    "![6-applaudimetre/icon.png](https://static4.castor-informatique.fr/contests/quickpi_parcours_a_2p.1586024594/6-applaudimetre/icon.png)\n",
    "\n",
    "Lisez la présentation du [Microphone](#microphone), de [l'écran](#ecran), des [variables](#variables), de [l'instruction if](#if), de [la boucle de répétition avec l'instruction `for`](#boucles_for), de [la boucle infinie](#boucle_infinie) et de [la gestion du temps](#sleep). "
   ]
  },
  {
   "cell_type": "markdown",
   "metadata": {},
   "source": [
    "Écrire un programme qui toutes les 50ms, mesure le volume sonore, efface l'écran puis affiche un rectangle qui couvre toute la hauteur de l'écran (y de 0 à 32), et va du bord gauche x = 0, jusqu'à la position x = volume sonore.\n",
    "\n",
    "Tracez également une ligne verticale sur toute la hauteur de l'écran, à la position x égale à la valeur de x la plus grande atteinte depuis le lancement du programme.\n",
    "\n",
    "Par exemple si le volume sonore actuel est de 43, et que le volume maximum mesuré depuis le début du programme est 70, l'affichage doit être comme ceci :\n",
    "\n",
    "![6-applaudimetre/example_easy.png](https://static4.castor-informatique.fr/contests/quickpi_parcours_a_2p.1586024594/6-applaudimetre/example_easy.png)\n"
   ]
  },
  {
   "cell_type": "code",
   "execution_count": null,
   "metadata": {},
   "outputs": [],
   "source": [
    "from quickpi import *\n"
   ]
  },
  {
   "cell_type": "markdown",
   "metadata": {},
   "source": [
    "Écrire un programme qui effectue 128 étapes numérotées de 0 à 127, séparées de 50ms.\n",
    "\n",
    "À chaque étape, il mesure le volume sonore et trace une ligne verticale, à x = numéro de l'étape, qui part du bas de l'écran (y=31) et a une hauteur égale à un tiers du volume sonore.\n",
    "\n",
    "Une fois toutes les étapes effectuées, il doit tracer une ligne horizontale de x = 0 à x = 127, à la hauteur la plus haute atteinte parmi les étapes.\n",
    "\n",
    "Ci-dessous à gauche, un exemple d'affichage pendant l'exécution, et à droite, un exemple à la fin de l'exécution."
   ]
  },
  {
   "cell_type": "code",
   "execution_count": null,
   "metadata": {},
   "outputs": [],
   "source": [
    "from quickpi import *\n"
   ]
  },
  {
   "cell_type": "markdown",
   "metadata": {},
   "source": [
    "Modifier le programme pour qu'il affiche une ligne horizontale supplémentaire, de x = 0 à x = 127, à la hauteur correspondant à la moyenne des hauteurs atteintes parmi toutes les étapes.\n",
    "\n",
    "Il s'agit de la somme des hauteurs divisée par le nombre d'étapes."
   ]
  },
  {
   "cell_type": "code",
   "execution_count": null,
   "metadata": {},
   "outputs": [],
   "source": [
    "from quickpi import *\n"
   ]
  },
  {
   "cell_type": "markdown",
   "metadata": {},
   "source": [
    "<a id =\"binaire\"></a>\n",
    "## Binaire :\n",
    "![8-binaire/icon.png](https://static4.castor-informatique.fr/contests/quickpi_parcours_a_2p.1586024594/8-binaire/icon.png)\n",
    "\n",
    "Lisez la présentation du [capteur de luminosité](#luminosite), de [l'écran](#ecran), du [bouton poussoir](#bouton_poussoir), des [variables](#variables), de [l'instruction if/else](#if/else), de [la boucle de répétition avec l'instruction `for`](#boucles_for), de [la boucle infinie](#boucle_infinie) et de [la gestion du temps](#sleep)."
   ]
  },
  {
   "cell_type": "markdown",
   "metadata": {},
   "source": [
    "Écrire un programme qui à chaque fois que l'on appuie sur le bouton, commence par afficher le texte \"Enregistrement\", puis mesure l'intensité lumineuse toutes les 100ms pendant 1s, et calcule la moyenne.\n",
    "\n",
    "Si cette moyenne est d'au moins 50%, il affiche alors 1, sinon 0."
   ]
  },
  {
   "cell_type": "code",
   "execution_count": null,
   "metadata": {},
   "outputs": [],
   "source": [
    "from quickpi import *\n"
   ]
  },
  {
   "cell_type": "markdown",
   "metadata": {},
   "source": [
    "Modifier le programme précédent pour qu'après l'appui sur le bouton, il lise 8 valeurs 0 ou 1 de cette manière, et affiche le nombre de valeurs 1 lues parmi les 8."
   ]
  },
  {
   "cell_type": "code",
   "execution_count": null,
   "metadata": {},
   "outputs": [],
   "source": [
    "from quickpi import *\n"
   ]
  },
  {
   "cell_type": "markdown",
   "metadata": {},
   "source": [
    "Modifier le programme de la version précédente pour qu'au lieu de compter simplement le nombre de 1, il convertisse la séquence de 0 et 1 en un nombre entre 0 et 255 de la manière suivante :\n",
    "- si le premier chiffre est 1 on ajoute 128,\n",
    "- si le deuxième est 1 on ajoute 64, etc.\n",
    "- et si le dernier est 1, on ajoute 1.\n",
    "Ainsi la séquence 01010010 vaut 64 + 16 + 2 = 82."
   ]
  },
  {
   "cell_type": "code",
   "execution_count": null,
   "metadata": {},
   "outputs": [],
   "source": [
    "from quickpi import *\n"
   ]
  },
  {
   "cell_type": "markdown",
   "metadata": {},
   "source": [
    "<a id=\"bille\"></a>\n",
    "##  Bille :\n",
    "![7-bille/icon.png](https://static4.castor-informatique.fr/contests/quickpi_parcours_a_2p.1586024594/7-bille/icon.png)\n",
    "Lisez la présentation des [variables](#variables), de [la boucle de répétition avec l'instruction `for`](#boucles_for), de [l'instruction if/else](#if/else), des [opérateurs logiques](#operateurs_logiques), de [l'accéléromètre](#accelerometre), de [l'écran](#ecran), des [LEDs](#leds), et de [la gestion du temps](#sleep)."
   ]
  },
  {
   "cell_type": "markdown",
   "metadata": {},
   "source": [
    "Écrire un programme qui affiche une bille sous la forme d'un cercle de diamètre 6.\n",
    "\n",
    "Au départ, le centre de la bille doit être à la position x = 10, y = 16.\n",
    "\n",
    "Le programme doit afficher aussi une ligne verticale au mileu (x = 64, y de 0 à 31).\n",
    "\n",
    "Voici ce que cela donne.\n",
    "\n",
    "![7-bille/example_easy.png](https://static4.castor-informatique.fr/contests/quickpi_parcours_a_2p.1586024594/7-bille/example_easy.png)\n",
    "\n",
    "Le programme doit tester l'accéléromètre toutes les 50ms pendant 3s.\n",
    "\n",
    "À chaque fois, si l'accélération en x est strictement supérieure à 30, la bille se déplace de 2 pixels vers la droite, et si elle est est strictement inférieure à 30, elle se déplace de 2 pixels vers la gauche (Le programme doit effacer l'écran puis redessiner la bille et la ligne verticale).\n",
    "\n",
    "Au bout de 3 secondes, si le centre de la bille est au milieu de l'écran, avec x entre 62 et 66 inclus, la LED verte s'allume, sinon la LED rouge s'allume."
   ]
  },
  {
   "cell_type": "code",
   "execution_count": null,
   "metadata": {},
   "outputs": [],
   "source": [
    "from quickpi import *\n"
   ]
  },
  {
   "cell_type": "markdown",
   "metadata": {},
   "source": [
    "Modifier le programme de la version précédente, en ajoutant la notion de vitesse de la bille.\n",
    "\n",
    "Au départ, la vitesse est de 0.\n",
    "\n",
    "Toutes les 50ms, le programme teste l'accéléromètre :\n",
    "- si l'accélération en x est est strictement supérieure à 30, la vitesse augmente de 1 sans dépasser 3,\n",
    "- si elle est strictement inférieure à 30, elle diminue de 1, sans aller en dessous de -3.\n",
    "\n",
    "Ensuite, la bille se déplace du nombre de pixels correspondant à la vitesse :\n",
    "- vers la gauche si la vitesse est négative,\n",
    "- et vers la droite si elle est positive."
   ]
  },
  {
   "cell_type": "code",
   "execution_count": null,
   "metadata": {},
   "outputs": [],
   "source": [
    "from quickpi import *"
   ]
  },
  {
   "cell_type": "markdown",
   "metadata": {},
   "source": [
    "Modifier le programme de la version précédente, pour ajouter la dimension verticale : en plus de se déplacer horizontalement, la bille doit se déplacer verticalement selon les mêmes conditions, mais sur la base de l'accélération en y.\n",
    "\n",
    "Au départ le centre de la bille doit être à la position x = 10, y = 10.\n",
    "\n",
    "Le programme doit afficher aussi une ligne horizontale à avec x de 0 à 127 et y = 16.\n",
    "\n",
    "Après 3 secondes, si x est entre 62 et 66 inclus, et y entre 14 et 18 inclus, la LED verte s'allume , sinon la LED rouge s'allume."
   ]
  },
  {
   "cell_type": "code",
   "execution_count": null,
   "metadata": {},
   "outputs": [],
   "source": [
    "from quickpi import *\n"
   ]
  },
  {
   "cell_type": "markdown",
   "metadata": {},
   "source": [
    "# Les instructions utiles en Python :"
   ]
  },
  {
   "cell_type": "markdown",
   "metadata": {},
   "source": [
    "<a id =\"programmer_python\"></a>\n",
    "## Programmation :\n",
    "\n",
    "Python permet de créer des programmes à partir d'instructions.\n",
    "\n",
    "Par exemple, l'instruction `droite()` peut faire déplacer un robot d'une case vers la droite.\n",
    "\n",
    "Un programme formé d'instructions les unes en dessous des autres, exécute ces instructions l'une après l'autre.\n",
    "```python\n",
    "from robot import *\n",
    "\n",
    "droite()\n",
    "haut()\n",
    "droite()\n",
    "```\n",
    "Le programme ci-dessus fait déplacer le robot vers la droite, puis vers le haut, puis de nouveau vers la droite.\n",
    "\n",
    "**>>> [Mélodie](#melodie)**"
   ]
  },
  {
   "cell_type": "markdown",
   "metadata": {},
   "source": [
    "<a id =\"if\"></a>\n",
    "### l'instruction if :\n",
    "\n",
    "Avec l'instruction if, on peut exécuter une instruction uniquement dans certaines conditions.\n",
    "```python\n",
    "if caseMarquee():\n",
    "    peindre()\n",
    "```\n",
    "Par exemple, le programme ci-dessus teste le contenu de la case du robot, et ne la peint que si elle est marquée.\n",
    "\n",
    "On peut aussi placer plusieurs instructions dans une instruction if, comme illustré ci-dessous :\n",
    "\n",
    "```python\n",
    "if caseMarquee():\n",
    "    peindre()\n",
    "    droite()\n",
    "```\n",
    "**>>> [Secousses](#secousses) >>> [Applaudimetre](#applaudimetre)**"
   ]
  },
  {
   "cell_type": "markdown",
   "metadata": {},
   "source": [
    "<a id =\"if/else\"></a>\n",
    "### l'instruction if/else\n",
    "\n",
    "On peut utiliser une instruction if/else, pour effectuer des opérations différentes selon la situation. Par exemple :\n",
    "```python\n",
    "if caseMarquee():\n",
    "    peindre()\n",
    "else:\n",
    "    haut()\n",
    "```\n",
    "Dans le programme ci-dessus, si la case du robot est marquée, le robot la peint, sinon il ne la peint pas mais se déplace vers le haut.\n",
    "\n",
    "**>>> [Sommeil agréable](#sommeil)   >>> [Détecteur de mouvements](#detecteur_mouvements)  >>> [Sirène](#sirene)   >>> [Binaire](#binaire)   >>> [Bille](#bille)**"
   ]
  },
  {
   "cell_type": "markdown",
   "metadata": {},
   "source": [
    "<a id =\"boucle_infinie\"></a>\n",
    "## La boucle infinie :\n",
    "\n",
    "On peut utiliser l'instruction `while True :` pour répéter sans fin une séquence d'instructions, comme dans l'exemple ci-dessous, qui allume et éteint une LED toutes les 500 millisecondes :\n",
    "```python\n",
    "while True :\n",
    "    allumerLED()\n",
    "    attendre(1000)\n",
    "    eteindreLED()\n",
    "    attendre(1000)\n",
    "```\n",
    "L'instruction `while True :` exécute en boucle les instructions placées en dessous, indentées vers la droite, sans s'arrêter, jusqu'à ce que l'on interrompe l'exécution du programme.\n",
    "\n",
    "Ce type de boucle est utile pour les programmes qui ne doivent jamais s'arrêter, par exemple le programme d'un système d'alarme, qui doit être actif en permanence.\n",
    "\n",
    "**>>> [Sommeil agréable](#sommeil) >>> [Secousses](#secousses)    >>> [Détecteur de mouvements](#detecteur_mouvements)  >>> [Sirène](#sirene)  >>> [Applaudimetre](#applaudimetre)   >>> [Binaire](#binaire)**"
   ]
  },
  {
   "cell_type": "markdown",
   "metadata": {},
   "source": [
    "<a id =\"boucles_for\"></a>\n",
    "## Boucle de répétition avec l'instruction `for` :\n",
    "\n",
    "Pour exécuter plusieurs fois la même instruction, on peut utiliser l'instruction `for loop in range(...)`.\n",
    "\n",
    "Par exemple, plutôt que de mettre 5 fois la même instruction :\n",
    "```python\n",
    "droite()\n",
    "droite()\n",
    "droite()\n",
    "droite()\n",
    "droite()\n",
    "```\n",
    "On peut écrire la boucle suivante :\n",
    "```python\n",
    "for loop in range(5):\n",
    "    droite()\n",
    "```   \n",
    "On peut aussi mettre plusieurs instructions dans une boucle :\n",
    "```python\n",
    "for loop in range(5):\n",
    "    droite()\n",
    "    haut()\n",
    "```\n",
    "**>>>  [Alternance](#alternance) >>> [Show lumineux 1](#show_lumineux_1)  >>>  [Avertisseur](#avertisseur) >>>  [Servo_chronométré](#servo_chronometre)  >>> [Applaudimetre](#applaudimetre)   >>> [Binaire](#binaire)   >>> [Bille](#bille)**"
   ]
  },
  {
   "cell_type": "markdown",
   "metadata": {},
   "source": [
    "<a id =\"boucles_imbriquees\"></a>\n",
    "### Boucles imbriquées :\n",
    "\n",
    "Il est possible d'utiliser des boucles imbriquées, c'est-à-dire que l'on peut mettre des boucles for, à l'intérieur d'autres boucles for.\n",
    "\n",
    "Par exemple :\n",
    "```python\n",
    "for loop in range(5):\n",
    "    droite()\n",
    "    for loop in range(3):\n",
    "        haut()\n",
    "    droite()\n",
    "```    \n",
    "Ce programme répétera 5 fois un déplacement d'1 case vers la droite, 3 cases vers le haut et 1 case vers la droite.\n",
    "\n",
    "**>>>  [Show lumineux 2](#show_lumineux_2)**"
   ]
  },
  {
   "cell_type": "markdown",
   "metadata": {},
   "source": [
    "<a id =\"operateurs_comparaison\"></a>\n",
    "## Les opérateurs de comparaison :\n",
    "\n",
    "Pour construire les conditions d’un test if, ou d’une boucle while, on peut utiliser des opérateurs de comparaison un peu comme en Mathématiques :\n",
    "- inférieur :  `a <  b`\n",
    "- supérieur : `a > b`\n",
    "- inférieur ou égal : `a <= b`\n",
    "- supérieur ou égal : `a >= b`\n",
    "- égal : `a == b` (attention, il faut deux signes `=`)\n",
    "- différent : `a != b`\n",
    "\n",
    "Le résultat de telles comparaisons est un booléen `True` ou `False`.\n",
    "\n",
    "Exemple d'un radar de recul :\n",
    "```python\n",
    "from quickpi import *\n",
    "while True :\n",
    "    if readDistance(\"distance1\") <= 50 :\n",
    "        turnBuzzerOn()\n",
    "    else :\n",
    "        turnBuzzerOff()\n",
    "```\n",
    "A moins de 50 cm d'un obstacle le buzzer émet un son.\n",
    "\n",
    "**>>> [Sommeil agréable](#sommeil)**"
   ]
  },
  {
   "cell_type": "markdown",
   "metadata": {},
   "source": [
    "<a id =\"operateurs_logiques\"></a>\n",
    "## Les opérateurs logiques (booléens)\n",
    "On peut tester deux conditions, et exécuter des instructions si l'une des deux est vraie, grâce à l'opérateur logique « ou ».\n",
    "```python\n",
    "if ((colonne() < 0) or (colonne > 8)):\n",
    "    peindre()\n",
    "``` \n",
    "L'instruction au sein du bloc sera exécutée soit si la colonne est inférieure à 0, soit si elle est supérieure à 8.\n",
    "\n",
    "Si l'on ne veut exécuter des instructions que si deux conditions sont vraies, on peut utiliser l'opérateur logique « et » avec le mot clé `and`.\n",
    "\n",
    "Si l'on ne veut exécuter des instructions que si la conditions est fausse, on peut utiliser l'opérateur logique « non » avec le mot clé `not`.\n",
    "\n",
    "**>>> [Sommeil agréable](#sommeil)  >>> [Secousses](#secousses)    >>> [Détecteur de mouvements](#detecteur_mouvements)  >>> [Sirène](#sirene)   >>> [Bille](#bille)**"
   ]
  },
  {
   "cell_type": "markdown",
   "metadata": {},
   "source": [
    "<a id =\"while\"></a>\n",
    "##  La boucle répéter tant que ou jusqu'à avec l'instruction `while` :\n",
    "On peut utiliser une instruction while, comme dans l'exemple ci-dessous :\n",
    "```python\n",
    "while not surTrou():\n",
    "    droite()\n",
    "```\n",
    "L'instruction `while` exécute en boucle les instructions placés en dessous, indentées vers la droite, tant que la condition est vraie.\n",
    "\n",
    "Si la condition est fausse dès le départ, les instructions ne sont jamais exécutées.\n",
    "\n",
    "Ce type de boucle est utile lorsque l'on ne connaît pas à l'avance le nombre de répétitions.\n",
    "\n",
    "Par exemple dans un cas comme ci-dessous, où l'on ne connaît pas le nombre de cases entre la bille et le trou où il faut la déposer.\n",
    "\n",
    "![example_while.png](https://static4.castor-informatique.fr/help/example_while.png)\n",
    "\n",
    "**>>> [Réveil matin](#reveil)  >>> [Sirène](#sirene)**"
   ]
  },
  {
   "cell_type": "markdown",
   "metadata": {},
   "source": [
    "<a id =\"variables\"></a>\n",
    "## Variables :\n",
    "\n",
    "Pour enregistrer une valeur à un moment du programme et l'utiliser plus tard, on utilise une « variable ». Il s'agit d'une zone dans mémoire de l'ordinateur, à laquelle on donne un nom, et dans laquelle on peut peut stocker une information pour l'utiliser plus tard.\n",
    "\n",
    "On peut penser à une variable comme une boîte avec une étiquette, le *nom de la variable*.\n",
    "\n",
    "Pour stocker une valeur dans cette variable, par exemple le nombre inscrit sur la case du robot, on fait comme ceci :\n",
    "```python\n",
    "memoireRobot = nombreSurCase()\n",
    "```\n",
    "\n",
    "Plus tard, pour utiliser la valeur stockée dans cette variable, et par exemple l'écrire sur la case du robot, on fait comme ceci :\n",
    "```python\n",
    "ecrireNombre(memoireRobot)\n",
    "```\n",
    "\n",
    "Après avoir enregistré une valeur dans une variable, on peut la modifier, par exemple, en lui ajoutant un nombre :\n",
    "```python\n",
    "memoireRobot = memoireRobot + nombreSurCase()\n",
    "```\n",
    "**>>> [Secousses](#secousses)  >>> [Détecteur de mouvements](#detecteur_mouvements)   >>> [Sirène](#sirene)  >>> [Applaudimetre](#applaudimetre)   >>> [Binaire](#binaire)   >>> [Bille](#bille)**"
   ]
  },
  {
   "cell_type": "markdown",
   "metadata": {},
   "source": [
    "<a id =\"interface\"></a>\n",
    "# L'interface FranceIOI :\n",
    "\n",
    "L'interface comporte deux onglets EXPÉRIMENTER et VALIDER, qui correspondent à deux modes d'utilisation différents.\n",
    "\n",
    "<img src=\"https://static4.castor-informatique.fr/help/quickpi_img/experimenter_p.png\" alt=\"experimenter_p.png\" title=\"experimenter_p.png\" width=\"90%\">\n",
    "\n",
    "**>>> [Mélodie](#melodie)**"
   ]
  },
  {
   "cell_type": "markdown",
   "metadata": {},
   "source": [
    "<a id =\"ecrire\"></a>\n",
    "## Ecrire un programme :\n",
    "\n",
    "C'est à droite dans l'éditeur que vous allez écrire vos programmes en langage python.\n",
    "\n",
    "Votre programme doit toujours commencer par la ligne `from quickpi import *`.\n",
    "\n",
    "Cette ligne de code permet de pouvoir utiliser les fonctions spécialement définies pour le module QuickPi.\n",
    "\n",
    "Les fonctions et mots clés disponibles sont répertoriés dans des listes déroulantes.\n",
    "\n",
    "Ensuite, vous écrivez les instructions de votre programme les unes en-dessous des autres.\n",
    "\n",
    "**>>> [Mélodie](#melodie)**"
   ]
  },
  {
   "cell_type": "markdown",
   "metadata": {},
   "source": [
    "<a id =\"tester\"></a>\n",
    "## Tester un programme :\n",
    "\n",
    "L'onglet EXPÉRIMENTER est en quelque sotre un \"bac à sable\". Il vous permet de mener des expérimentations avec les composants et les fonctions disponibles dans l'interface.\n",
    "\n",
    "Un ou des composants sont mis à votre disposition sur l'interface.\n",
    "\n",
    "<img src=\"https://static4.castor-informatique.fr/help/quickpi_img/onglet_experimenter.png\" alt=\"onglet_experimenter.png\" title=\"onglet_experimenter.png\" width=\"30%\">\n",
    "\n",
    "Vous pouvez tester ces composants en cliquant dessus pour changer leur état.\n",
    "\n",
    "Exemple : cliquer sur une LED pour l'allumer.\n",
    "\n",
    "Pour exécuter votre programme, cliquez sur le bouton  en bas à gauche de l'écran.\n",
    "\n",
    "<img src=\"https://static4.castor-informatique.fr/help/quickpi_img/interface_p.png\" alt=\"interface_p.png\" title=\"interface_p.png\" width=\"90%\">\n",
    "\n",
    "N'importe quel programme que vous concevez est exécuté entièrement, avec une simulation visuelle ou auditive du fonctionnement des composants.\n",
    "\n",
    "**>>> [Mélodie](#melodie)**"
   ]
  },
  {
   "cell_type": "markdown",
   "metadata": {},
   "source": [
    "<a id =\"valider\"></a>\n",
    "## Valider un programme :\n",
    "\t\n",
    "Votre mission consiste à concevoir un programme qui permet d'effectuer la tâche demandée dans l'énoncé.\n",
    "\n",
    "L'onglet VALIDER permet une validation automatique des programmes soumis : grâce à un test, le programme présent dans l'éditeur est automatiquement évalué.\n",
    "\n",
    "Voici comment fonctionne ce test :\n",
    "\n",
    "<img src=\"https://static4.castor-informatique.fr/help/quickpi_img/valider_p.png\" alt=\"valider_p.png\" title=\"valider_p.png\" width=\"90%\"> \n",
    "\n",
    "Une ligne du temps (en secondes) est présente pour chaque composant disponible.\n",
    "\n",
    "Cette ligne du temps apparaît en gris lorsque le composant est activé pendant la période, sinon elle n'apparaît pas.\n",
    "\n",
    "Au fur et à mesure de l'exécution du programme, un curseur se déplace horizontalement et vérifie que l'état des composants est conforme à ce qui est attendu.\n",
    "\n",
    "Dans l'exemple, la LED doit être initialement éteinte (état OFF), puis allumée (état ON, ligne grise) entre les instants 0 et 3, puis à nouveau éteinte à l'instant 3.\n",
    "\n",
    "**>>> [Mélodie](#melodie)**"
   ]
  },
  {
   "cell_type": "markdown",
   "metadata": {},
   "source": [
    "# Les fonctions utiles des composants :"
   ]
  },
  {
   "cell_type": "markdown",
   "metadata": {},
   "source": [
    "<a id =\"sleep\"></a>\n",
    "## Gestion du temps :\n",
    "\n",
    "<img src=\"https://static4.castor-informatique.fr/help/quickpi_img/time.png\" alt=\"time.png\" title=\"time.png\" width=\"15%\">\n",
    "\n",
    "- `sleep(milliseconds)`\n",
    "\n",
    "    Cette fonction permet de stopper l'exécution du programme pendant une durée entrée en paramètre.\n",
    "    \n",
    "    Cette durée est exprimée en millisecondes.\n",
    "    \n",
    "    Exemple :\n",
    "```python    \n",
    "sleep(1000)\n",
    "```\n",
    "    Pour stopper l'exécution du programme pendant une durée de 1 seconde.\n",
    "    \n",
    "**>>> [Sommeil agréable](#sommeil)  >>> [Réveil matin](#reveil)  >>> [Secousses](#secousses)   >>> [Détecteur de mouvements](#detecteur_mouvements)   >>> [Sirène](#sirene)  >>> [Applaudimetre](#applaudimetre)   >>> [Binaire](#binaire)    >>> [Bille](#bille)**"
   ]
  },
  {
   "cell_type": "markdown",
   "metadata": {},
   "source": [
    "<a id =\"buzzer\"></a>\n",
    "## Buzzer :\n",
    "Un buzzer est un composant qui produit un son lorsqu'il est soumis à un tension électrique.\n",
    "\n",
    "<a href=\"http://wiki.seeedstudio.com/Grove-Buzzer/\"><img src=\"https://files.seeedstudio.com/wiki/Grove_Buzzer/img/buzzer_s.jpg\"></a>\n",
    "\n",
    "Un buzzer possède deux états :\n",
    "\n",
    "- ON : le buzzer est soumis à une tension électrique, il sonne.\n",
    "![buzzer-ringing.png](https://static4.castor-informatique.fr/modules/img/quickpi/buzzer-ringing.png)\n",
    "- OFF : sans tension électrique, le buzzer reste silencieux.\n",
    "![buzzer.png](https://static4.castor-informatique.fr/modules/img/quickpi/buzzer.png)\n",
    "\n",
    "Le son peut être toujours le même ou être paramétrable.\n",
    "\n",
    "\n",
    "**Fonctions disponibles :**\n",
    "\n",
    "- `turnBuzzerOn()`\n",
    "\n",
    "    Cette fonction permet d'allumer le buzzer.\n",
    "    \n",
    "    \n",
    "- `turnBuzzerOff()`\n",
    "\n",
    "    Cette fonction permet d'éteindre le buzzer.\n",
    "    \n",
    "- `setBuzzerNote(buzzer, frequency)`\n",
    "\n",
    "    Pour le buzzer entré en paramètre, cette fonction permet de produire un son à une fréquence donnée.\n",
    "    \n",
    "    La fréquence est exprimée en Hertz.\n",
    "    \n",
    "    Exemple : \n",
    "```python    \n",
    "setBuzzerNote(\"buzzer1\", 264)\n",
    "```\n",
    "    permet de jouer la note DO.\n",
    "\n",
    "**>>> [Réveil matin](#reveil)  >>> [Sirène](#sirene)**"
   ]
  },
  {
   "cell_type": "markdown",
   "metadata": {},
   "source": [
    "<a id =\"leds\"></a>\t\n",
    "## LEDs ou diodes électroluminescentes :\n",
    "\n",
    "Une LED est un composant qui émet de la lumière quand il est parcouru par un courant électrique.\n",
    "\n",
    "<a href=\"http://wiki.seeedstudio.com/Grove-Red_LED/\"><img src=\"https://www.gotronic.fr/ar-led-rouge-5-mm-grove-104030005-19005.jpg\"></a>\n",
    "\n",
    "Une LED possède deux états :\n",
    "\n",
    "- ON : le courant traverse la LED, elle est allumée :\n",
    "![ledon-red.png](https://static4.castor-informatique.fr/modules/img/quickpi/ledon-red.png)\n",
    "\n",
    "- OFF : il n'y a pas de courant, la LED est éteinte :\n",
    "![ledoff.png](https://static4.castor-informatique.fr/modules/img/quickpi/ledoff.png)\n",
    "\n",
    "Une LED ne laisse passer le courant électrique que dans un seul sens.\n",
    "\n",
    "On trouve des LEDs qui émettent de la lumière rouge ou de la lumière verte, ou d'autres couleurs encore.\n",
    "\n",
    "**Fonctions disponibles** :\n",
    "\n",
    "- Les fonctions `turnLedOn()` et `turnLedOff()` permettent respectivement d'allumer et d'éteindre une LED.\n",
    "\n",
    "    Elles ne peuvent servir que lorsqu'il n'y a qu'une seule LED utilisée.\n",
    "\n",
    "\n",
    "- `setLedState(led,state)` :\n",
    "\n",
    "    Cette fonction permet d'allumer ou éteindre une LED.\n",
    "    \n",
    "    Elle prend en paramètre le nom de la LED et l'état à considérer, True pour l'allumer, False pour l'éteindre.\n",
    "    \n",
    "    Exemple :\n",
    "```python    \n",
    "setLedState(\"led1\",True)\n",
    "```\n",
    "\n",
    "- `toggleLedState(led)` :\n",
    "\n",
    "    Cette fonction permet d'inverser l'état de la LED entrée en paramètre sous forme de chaine de caractères.\n",
    "    \n",
    "    Exemple :\n",
    "```python    \n",
    "toggleLedState(\"led1\")\n",
    "```\n",
    "\n",
    "**>>> [Sommeil agréable](#sommeil)   >>> [Détecteur de mouvements](#detecteur_mouvements)   >>> [Bille](#bille)**"
   ]
  },
  {
   "cell_type": "markdown",
   "metadata": {},
   "source": [
    "<a id =\"bouton_poussoir\"></a>\n",
    "## Bouton poussoir\n",
    "<a href=\"http://wiki.seeedstudio.com/Grove-Button/\"><img src=\"https://www.gotronic.fr/ar-module-bouton-grove-101020003-19052.jpg\"></a>\n",
    "Un bouton poussoir est un élément qui possède deux états, relevé et enfoncé.\n",
    "- ON : le bouton est enfoncé :\n",
    "![buttonon.png](https://static4.castor-informatique.fr/modules/img/quickpi/buttonon.png)\n",
    "- OFF : le bouton est relevé :\t\n",
    "![buttonoff.png](https://static4.castor-informatique.fr/modules/img/quickpi/buttonoff.png)\n",
    "\t\n",
    "**Fonctions disponibles :**\n",
    "\n",
    "- `isButtonPressed()`\n",
    "\n",
    "    Cette fonction renvoie `True` si le bouton est enfoncé, et `False` s'il est relevé.\n",
    "\n",
    "    Cette fonction est utilisée seulement lorsqu'il n'y a qu'un seul bouton pressoir sur le montage.\n",
    "    \n",
    "<br>   \n",
    "\n",
    "- `isButtonPressed(button)`\n",
    "\n",
    "    Pour le bouton entré en paramètre sous forme de chaine de caractères, cette fonction renvoie `True` si le bouton est enfoncé, et `False` s'il est relevé.\n",
    "    \n",
    "    Exemple : \n",
    "```python    \n",
    "isButtonPressed(\"button1\")\n",
    "```\t\n",
    "\n",
    "**>>> [Réveil matin](#reveil)  >>> [Secousses](#secousses)   >>> [Binaire](#binaire)**"
   ]
  },
  {
   "cell_type": "markdown",
   "metadata": {},
   "source": [
    "<a id =\"ecran\"></a>\t\n",
    "## Écran :\n",
    "\n",
    "![screen.png](https://static4.castor-informatique.fr/modules/img/quickpi/screen.png)\n",
    "\n",
    "L'écran de ce module est un petit écran monochrome de (132 x 33) pixels qui permet d'afficher deux lignes de 16 caractères.\n",
    "<a href=\"http://wiki.seeedstudio.com/Grove-16x2_LCD_Series/\"><img src=\"https://www.gotronic.fr/ar-afficheur-lcd-i2c-grove-104020113-28877.jpg\"></a>\n",
    "**Fonctions disponibles** :\n",
    "\n",
    "- `displayText(line1, line2)`\n",
    "\n",
    "    Cette fonction permet d'afficher deux lignes de texte sur un écran.\n",
    "    \n",
    "    Elle prend en paramètre une ou deux lignes à afficher, sous forme de chaines de caractères.\n",
    "    \n",
    "    Le paramètre de la deuxième ligne est optionnel. \n",
    "\n",
    "    Exemple : avec le code \n",
    "```python    \n",
    "displayText(\"Hello\", \"World !\")\n",
    "```\n",
    "    on affiche Hello sur la première ligne, et World ! sur la deuxième ligne de l'écran.\n",
    "\n",
    "<br>\n",
    "    \n",
    "- `drawRectangle(x0, y0, width, height)`\n",
    "\n",
    "    Cette fonction permet de dessinner un rectangle plein dont :\n",
    "    - le coin du haut à gauche sera le pixel de coordonnées (x0, y0) ;\n",
    "    - et le coin du bas à droite sera le pixel de coordonnées (x0 + width, y0 + height).\n",
    "    \n",
    "<br>   \n",
    "\n",
    "- `drawLine(x0, y0, x1, y1)`\n",
    "\n",
    "    Cette fonction permet de dessinner un segment entre le pixel de coordonnées (x0, y0) et le pixel de coordonnées(x1, y1).\n",
    "\n",
    "<br>\n",
    "\n",
    "- `clearScreen()`\n",
    "\n",
    "    Cette fonction permet d'effacer l'écran.\n",
    "    \n",
    "<br>    \n",
    "    \n",
    "- `drawCircle(x0, y0, diameter)`\n",
    "\n",
    "    Cette fonction permet d'afficher un cercle sur l'écran.\n",
    "    \n",
    "    Elle prend en paramètre les coordonnées (x0, y0) du centre du cercle et son diamètre en nombre entier de pixels.\n",
    "    \n",
    "**>>> [Secousses](#secousses)   >>> [Détecteur de mouvements](#detecteur_mouvements)  >>> [Applaudimetre](#applaudimetre)   >>> [Binaire](#binaire)   >>> [Bille](#bille)**"
   ]
  },
  {
   "cell_type": "markdown",
   "metadata": {},
   "source": [
    "<a id =\"manette\"></a>\n",
    "## Manette :\n",
    "![stick.png](https://static4.castor-informatique.fr/modules/img/quickpi/stick.png)\n",
    "\n",
    "Une manette (stick en anglais) est un ensemble de 5 boutons, chacun correspondant à une direction : haut, droite, bas, gauche ou bien centre.\n",
    "\n",
    "Il s'agit d'un seul composant, mais qui se programme comme 5 boutons différents :\n",
    "\n",
    "- \"stick1.up\" pour la direction haut de la manette \"stick1\"\n",
    "- \"stick1.right\" pour la direction droite\n",
    "- \"stick1.down\" pour la direction bas\n",
    "- \"stick1.left\" pour la direction gauche\n",
    "- \"stick1.center\" pour la direction centre\n",
    "\n",
    "Par exemple pour tester si la direction haut est enfoncée, on utilise :\n",
    "```python \n",
    "buttonState(\"stick1.up\")\n",
    "```\n",
    "**>>> [Réveil matin](#reveil)  >>> [Secousses](#secousses)    >>> [Détecteur de mouvements](#detecteur_mouvements)**"
   ]
  },
  {
   "cell_type": "markdown",
   "metadata": {},
   "source": [
    "<a id =\"capteur_distance\"></a>\t\n",
    "## Capteur de distance :\n",
    "\n",
    "![range.png](https://static4.castor-informatique.fr/modules/img/quickpi/range.png)\n",
    "\n",
    "Ce capteur permet de mesurer la distance sans contact à l'aide de transducteurs à ultrasons. Il a une portée de 3 centimètres à 5 mètres.\n",
    "<a href=\"http://wiki.seeedstudio.com/Grove-Ultrasonic_Ranger/\"><img src=\"https://www.gotronic.fr/ar-telemetre-a-ultrasons-grove-101020010-18976.jpg\"></a>\n",
    "**Fonctions disponibles :**\n",
    "- `readDistance(range)`\n",
    "\n",
    "    Cette fonction renvoie la distance captée par le capteur de distance entré en paramètre.\n",
    "    Cette distance est exprimée en centimètres.\n",
    "\n",
    "    Exemple : \n",
    "```python\n",
    "readDistance(\"range1\")\n",
    "```\n",
    "**>>> [Instrument](#instrument)  >>>  [Avertisseur](#avertisseur)   >>> [Détecteur de mouvements](#detecteur_mouvements)**"
   ]
  },
  {
   "cell_type": "markdown",
   "metadata": {},
   "source": [
    "<a id =\"servomoteur\"></a>\t\n",
    "## Servomoteur :\n",
    "![servo-full.png](https://static4.castor-informatique.fr/modules/img/quickpi/servo-full.png)\n",
    "Le Servomoteur est un petit moteur qui peut tourner précisément jusqu'à un angle donné, entre 0 et 180 degrés. On peut l'utiliser pour contrôler la direction des roues d'un petit véhicule, ou pour ouvrir ou fermer une barrière, etc.\n",
    "\n",
    "**Fonctions disponibles :**\n",
    "\n",
    "- `setServoAngle(servo, angle)`\n",
    "\n",
    "    Cette fonction permet de modifier l'angle du servomoteur choisi. L'angle est exprimés en degrés, entre 0 et 180 degrés.\n",
    "\n",
    "    Exemple :\n",
    "```python\n",
    "setServoAngle(\"servo1\", 90)`\n",
    "```\n",
    "\n",
    "\n",
    "- `getServoAngle(servo)`\n",
    "\n",
    "    Ce bloc permet de relire l'angle auquel on a réglé le servomoteur choisi. Ce n'est pas un capteur, mais simplement une mémorisation de la dernière valeur modifiée par une instruction.\n",
    "\n",
    "    On peut par exemple l'utiliser pour augmenter l'angle de 1 degré.\n",
    "\n",
    "    Exemple :\n",
    "```python\n",
    "setServoAngle(\"servo1\", getServoAngle(\"servo1\") + 1)\n",
    "```\n",
    "**>>>  [Servo_chronométré](#servo_chronometre)**"
   ]
  },
  {
   "cell_type": "markdown",
   "metadata": {},
   "source": [
    "<a id =\"thermometre\"></a>\n",
    "## Thermomètre :\n",
    "![thermometer.png](https://static4.castor-informatique.fr/modules/img/quickpi/thermometer.png)\n",
    "Ce composant capte la température ambiante.\n",
    "\n",
    "<a href=\"http://wiki.seeedstudio.com/Grove-Temperature_Sensor_V1.2/\"><img src=\"https://files.seeedstudio.com/wiki/Grove-Temperature_Sensor_V1.2/img/Grove_Temperature_Sensor_View_little.jpg\"></a>\n",
    "\n",
    "Il délivre un signal analogique en fonction de la température mesurée.\n",
    "\n",
    "**Fonctions disponibles** :\n",
    "\n",
    "- `readTemperature(thermometer)`\n",
    "\n",
    "    Cette fonction renvoie la température captée par le thermomètre entré en paramètre.\n",
    "    \n",
    "    Cette température est exprimée en degrés Celsius.\n",
    "\n",
    "    Exemple :\n",
    "```python    \n",
    "readTemperature(\"thermometer1\")\n",
    "```\n",
    "![curseur_temp.png](https://static4.castor-informatique.fr/help/quickpi_img/curseur_temp.png)\n",
    "\n",
    "Un curseur vous permet de simuler une température ambiante de 0°C à 60°C. Cliquez sur le thermomètre pour fairre apparaître le curseur à l'écran.\n",
    "\n",
    "**>>> [Sommeil agréable](#sommeil)**"
   ]
  },
  {
   "cell_type": "markdown",
   "metadata": {},
   "source": [
    "<a id =\"luminosite\"></a>\t\n",
    "## Capteur de luminosité :\n",
    "![light_sensor.png](https://static4.castor-informatique.fr/modules/img/quickpi/light_sensor.png)\n",
    "Ce composant capte la quantité de lumière ambiante.\n",
    "<a href=\"http://wiki.seeedstudio.com/Grove-Light_Sensor/\"><img src=\"https://www.gotronic.fr/ar-detecteur-de-lumiere-grove-v1-2-101020132-25427.jpg\"></a>\n",
    "Ce capteur basé sur une photo-résistance, compatible Grove, permet de détecter la présence de lumière. La tension de sortie analogique évolue de 0 à +Vcc suivant l'intensité lumineuse mesurée.\n",
    "\n",
    "**Fonctions disponibles :**\n",
    "\n",
    "- `readLightIntensity(lightSensor)`\n",
    "\n",
    "    Cette fonction renvoie la luminosité captée par le capteur de lumière entré en paramètre.\n",
    "    \n",
    "    Cette luminosité est exprimée en pourcentage de la luminosité maximale.\n",
    "\n",
    "    Exemple :\n",
    "```python     \n",
    "readLightIntensity(\"light1\")\n",
    "```\n",
    "![curseur_lumiere.png](https://static4.castor-informatique.fr/help/quickpi_img/curseur_lumiere.png)\n",
    "\n",
    "Un curseur vous permet de simuler une luminosité ambiante, de 0% (nuit complète) à 100% (luminosité maximale).\n",
    "\n",
    "**>>> [Sommeil agréable](#sommeil)  >>> [Réveil matin](#reveil)  >>> [Binaire](#binaire)**"
   ]
  },
  {
   "cell_type": "markdown",
   "metadata": {},
   "source": [
    "<a id =\"microphone\"></a>\t\n",
    "## Microphone :\n",
    "![sound.png](https://static4.castor-informatique.fr/modules/img/quickpi/sound.png)\n",
    "Ce composant permet de capter l'intensité sonore d'un bruit ambiant.\n",
    "<a href=\"http://wiki.seeedstudio.com/Grove-Sound_Sensor/\"><img src=\"https://www.gotronic.fr/ar-detecteur-de-bruit-grove-101020023-18971.jpg\"></a>\n",
    "Ce module détecteur de bruit compatible Grove est basé sur un micro électret amplifié par un LM358. Il peut être utilisé comme détecteur de niveau sonore ou comme micro.\n",
    "\n",
    "**Fonctions disponibles** :\n",
    "\n",
    "- `readSoundLevel(port)`\n",
    "\n",
    "    Cette fonction renvoie le volume sonore capté par le microphone entré en paramètre.\n",
    "\n",
    "    Ce volume sonore est exprimé en décibels (dB).\n",
    "\n",
    "    Exemple :\n",
    "```python    \n",
    "readSoundLevel(\"mic1\")\n",
    "```\n",
    "![curseur_bruit.png](https://static4.castor-informatique.fr/help/quickpi_img/curseur_bruit.png)\n",
    "\n",
    "Un curseur vous permet de simuler un volume sonore ambiant, de 0 à 100 décibels (dB). Par exemple, 60dB peut correspondre au bruit d'une conversation.\n",
    "\n",
    "**>>> [Applaudimetre](#applaudimetre)**"
   ]
  },
  {
   "cell_type": "markdown",
   "metadata": {},
   "source": [
    "<a id =\"accelerometre\"></a>\t\n",
    "## Accéléromètre :\n",
    "![accel.png](https://static4.castor-informatique.fr/modules/img/quickpi/accel.png)\n",
    "Ce composant permet de capter l'accélération dont il fait l'objet dans un repère à 3 dimensions.\n",
    "<a href=\"http://wiki.seeedstudio.com/Grove-3-Axis_Digital_Accelerometer-16g/\"><img src=\"https://www.gotronic.fr/ar-accelerometre-3-axes-grove-101020054-18957.jpg\"></a>\n",
    "**Fonctions disponibles :**\n",
    "\n",
    "- `readAcceleration(axis)`\n",
    "\n",
    "    Cette fonction renvoie l'accélération captée selon l'axe entré en paramètre.\n",
    "    \n",
    "    Cette accélération est exprimée en m/s².\n",
    "    \n",
    "    Exemple :\n",
    "```python    \n",
    "readAcceleration(\"z\")\n",
    "```\n",
    "![curseurs_accel.png](https://static4.castor-informatique.fr/help/quickpi_img/curseurs_accel.png)\n",
    "\n",
    "Trois curseurs vous permettent de simuler une accélération suivant les trois axes :\n",
    "\n",
    "- X : axe horizontal - abscisse\n",
    "- Y : axe horizontal - ordonnée\n",
    "- Z : axe vertical - cote\n",
    "\n",
    "**>>> [Secousses](#secousses)   >>> [Bille](#bille)**"
   ]
  },
  {
   "cell_type": "code",
   "execution_count": null,
   "metadata": {},
   "outputs": [],
   "source": []
  },
  {
   "cell_type": "markdown",
   "metadata": {},
   "source": [
    "****\n",
    "# Références aux programmes :\n",
    "\n",
    "<style type=\"text/css\">\n",
    ".tg  {border-collapse:collapse;border-spacing:0;}\n",
    ".tg td{font-family:Arial, sans-serif;font-size:14px;padding:10px 5px;border-style:solid;border-width:1px;overflow:hidden;word-break:normal;border-color:black;}\n",
    ".tg th{font-family:Arial, sans-serif;font-size:14px;font-weight:normal;padding:10px 5px;border-style:solid;border-width:1px;overflow:hidden;word-break:normal;border-color:black;}\n",
    ".tg .tg-cv16{font-weight:bold;background-color:#dae8fc;border-color:inherit;text-align:center}\n",
    ".tg .tg-xldj{border-color:inherit;text-align:left}\n",
    "</style>\n",
    "\n",
    "<table class=\"tg\">\n",
    "  <tr>\n",
    "    <th class=\"tg-cv16\">Contenus</th>\n",
    "    <th class=\"tg-cv16\">Capacités attendues</th>\n",
    "    <th class=\"tg-cv16\">Commentaires</th>\n",
    "  </tr>\n",
    "  <tr>\n",
    "    <td class=\"tg-xldj\">Périphériques d’entrée et de sortie<br>Interface HommeMachine (IHM)</td>\n",
    "    <td class=\"tg-xldj\">Identifier le rôle des capteurs et actionneurs.<br>Réaliser par programmation une IHM répondant à un cahier des charges donné.</td>\n",
    "    <td class=\"tg-xldj\">Les activités peuvent être développées sur des objets connectés, des systèmes embarqués ou robots.\n",
    "</td>\n",
    "  </tr>\n",
    "    \n",
    "</table>\n",
    "\n",
    "<table class=\"tg\">\n",
    "  <tr>\n",
    "    <th class=\"tg-cv16\">Contenus</th>\n",
    "    <th class=\"tg-cv16\">Capacités attendues</th>\n",
    "    <th class=\"tg-cv16\">Commentaires</th>\n",
    "  </tr>\n",
    "  <tr>\n",
    "    <td class=\"tg-xldj\">Constructions élémentaires</td>\n",
    "    <td class=\"tg-xldj\">Mettre en évidence un corpus de constructions élémentaires.</td>\n",
    "    <td class=\"tg-xldj\">Séquences, affectation, conditionnelles, boucles bornées, boucles non bornées, appels de fonction.</td>\n",
    "    \n",
    "</table>\n",
    "\n",
    "<table class=\"tg\">\n",
    "  <tr>\n",
    "    <th class=\"tg-cv16\">Contenus</th>\n",
    "    <th class=\"tg-cv16\">Capacités attendues</th>\n",
    "    <th class=\"tg-cv16\">Commentaires</th>\n",
    "  </tr>\n",
    "  <tr>\n",
    "    <td class=\"tg-xldj\">Utilisation de bibliothèques</td>\n",
    "    <td class=\"tg-xldj\">Utiliser la documentation d’une bibliothèque.</td>\n",
    "    <td class=\"tg-xldj\">Aucune connaissance exhaustive d’une bibliothèque particulière n’est exigible.</td>\n",
    "    \n",
    "</table>"
   ]
  },
  {
   "cell_type": "markdown",
   "metadata": {},
   "source": [
    "<a rel=\"license\" href=\"http://creativecommons.org/licenses/by-sa/4.0/\"><img alt=\"Licence Creative Commons\" style=\"border-width:0\" src=\"https://i.creativecommons.org/l/by-sa/4.0/88x31.png\" /></a><br />Ce document, basé sur du contenu de [France-IOI](http://www.france-ioi.org/), est mis à disposition selon les termes de la <a rel=\"license\" href=\"http://creativecommons.org/licenses/by-sa/4.0/\">Licence Creative Commons Attribution -  Partage dans les Mêmes Conditions 4.0 International</a>.\n",
    "\n",
    "Pour toute question, suggestion ou commentaire : <a href=\"mailto:eric.madec@ecmorlaix.fr\">eric.madec@ecmorlaix.fr</a>"
   ]
  }
 ],
 "metadata": {
  "kernelspec": {
   "display_name": "Python 3",
   "language": "python",
   "name": "python3"
  },
  "language_info": {
   "codemirror_mode": {
    "name": "ipython",
    "version": 3
   },
   "file_extension": ".py",
   "mimetype": "text/x-python",
   "name": "python",
   "nbconvert_exporter": "python",
   "pygments_lexer": "ipython3",
   "version": "3.7.3"
  },
  "toc": {
   "base_numbering": 1,
   "nav_menu": {},
   "number_sections": true,
   "sideBar": true,
   "skip_h1_title": false,
   "title_cell": "Table of Contents",
   "title_sidebar": "Contents",
   "toc_cell": false,
   "toc_position": {},
   "toc_section_display": true,
   "toc_window_display": false
  },
  "varInspector": {
   "cols": {
    "lenName": 16,
    "lenType": 16,
    "lenVar": 40
   },
   "kernels_config": {
    "python": {
     "delete_cmd_postfix": "",
     "delete_cmd_prefix": "del ",
     "library": "var_list.py",
     "varRefreshCmd": "print(var_dic_list())"
    },
    "r": {
     "delete_cmd_postfix": ") ",
     "delete_cmd_prefix": "rm(",
     "library": "var_list.r",
     "varRefreshCmd": "cat(var_dic_list()) "
    }
   },
   "types_to_exclude": [
    "module",
    "function",
    "builtin_function_or_method",
    "instance",
    "_Feature"
   ],
   "window_display": false
  }
 },
 "nbformat": 4,
 "nbformat_minor": 4
}
