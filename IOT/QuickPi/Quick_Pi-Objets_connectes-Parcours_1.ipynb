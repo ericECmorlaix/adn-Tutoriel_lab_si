{
 "cells": [
  {
   "cell_type": "markdown",
   "metadata": {},
   "source": [
    "# Parcours 1 : des objets qui réagissent"
   ]
  },
  {
   "cell_type": "markdown",
   "metadata": {},
   "source": [
    "Rendez-vous à l'adresse : https://amazon.quick-pi.org/ pour apprendre à programmer vos objets connectés en Python en réalisant les activités du Parcours 1.\n",
    "\n",
    "Copier ci-dessous le code d'accès personnel que vous avez obtenu :"
   ]
  },
  {
   "cell_type": "markdown",
   "metadata": {},
   "source": [
    "........."
   ]
  },
  {
   "cell_type": "markdown",
   "metadata": {},
   "source": [
    "<a id =\"melodie\"></a>\n",
    "Lisez la présentation pour [programmer en Python](#programmer_python) , [écrire](#ecrire), [tester](#tester) puis [valider](#valider) votre programme avec [l'interface de FranceIOI](#interface).\n",
    "\n",
    "> Au fur et à mesure que vous expérimentez et validez vos programmes **par simulation** pour chaque cdcf, recopier votre script dans les cellules de code vides ci-dessous...\n",
    "\n",
    "## Mélodie :\n",
    "![1-melodie/icon.png](https://static4.castor-informatique.fr/contests/quickpi_parcours_a_1p.1585649693/1-melodie/icon.png)\n",
    "Lisez la présentation du [buzzer](#buzzer) et de [la gestion du temps](#sleep)."
   ]
  },
  {
   "cell_type": "markdown",
   "metadata": {},
   "source": [
    "Écrire un programme qui active le buzzer pour jouer un son."
   ]
  },
  {
   "cell_type": "code",
   "execution_count": null,
   "metadata": {},
   "outputs": [],
   "source": [
    "from quickpi import *\n"
   ]
  },
  {
   "cell_type": "markdown",
   "metadata": {},
   "source": [
    "Écrire un programme qui joue la note \"la\", à la fréquence 440Hz, pendant une seconde."
   ]
  },
  {
   "cell_type": "code",
   "execution_count": null,
   "metadata": {},
   "outputs": [],
   "source": [
    "from quickpi import *\n"
   ]
  },
  {
   "cell_type": "markdown",
   "metadata": {},
   "source": [
    "Écrire un programme qui joue la mélodie “do ré mi ré do”, en jouant chaque note pendant 500ms, l'une après l'autre, puis éteint le buzzer.\n",
    "\n",
    "Les fréquences des notes sont : Do : 523Hz, Ré : 587Hz, et Mi : 659Hz."
   ]
  },
  {
   "cell_type": "code",
   "execution_count": null,
   "metadata": {},
   "outputs": [],
   "source": [
    "from quickpi import *\n"
   ]
  },
  {
   "cell_type": "markdown",
   "metadata": {},
   "source": [
    "<a id =\"alternance\"></a>\n",
    "## Alternance\n",
    "![2-allers-retours-de-LEDs/icon.png](https://static4.castor-informatique.fr/contests/quickpi_parcours_a_1p.1585649693/2-allers-retours-de-LEDs/icon.png)\n",
    "\n",
    "Lisez la présentation de [la boucle de répétition avec l'instruction `for`](#boucles_for), des [LEDs](#leds) et de [la gestion du temps](#sleep)."
   ]
  },
  {
   "cell_type": "markdown",
   "metadata": {},
   "source": [
    "Écrire un programme qui fait clignoter la LED cinq fois : c'est à dire l'allume pendant 1s, puis l'éteint pendant 1s, puis recommence quatre autres fois."
   ]
  },
  {
   "cell_type": "code",
   "execution_count": null,
   "metadata": {},
   "outputs": [],
   "source": [
    "from quickpi import *\n"
   ]
  },
  {
   "cell_type": "markdown",
   "metadata": {},
   "source": [
    "Écrire un programme qui allume en alternance les LED rouge et bleue pendant 500ms chacune : la rouge pendant 500ms, la bleue pendant 500ms, etc.\n",
    "\n",
    "Chacune des LEDs doit être allumée 5 fois au total.\n",
    "\n",
    "Tout doit être éteint à la fin."
   ]
  },
  {
   "cell_type": "code",
   "execution_count": null,
   "metadata": {},
   "outputs": [],
   "source": [
    "from quickpi import *\n"
   ]
  },
  {
   "cell_type": "markdown",
   "metadata": {},
   "source": [
    "Écrire un programme qui allume en alternance les LED rouge et bleue 5 fois au total, chaque fois pendant 500ms mais allumant la suivante 100ms avant d'éteindre la précédente : on allume la rouge au tout début, puis allume la bleue au temps 400ms, puis éteint la rouge au temps 500ms, puis allume la rouge au temps 800ms, etc."
   ]
  },
  {
   "cell_type": "code",
   "execution_count": null,
   "metadata": {},
   "outputs": [],
   "source": [
    "from quickpi import *\n"
   ]
  },
  {
   "cell_type": "markdown",
   "metadata": {},
   "source": [
    "<a id =\"show_lumineux_1\"></a>\n",
    "## Show lumineux 1\n",
    "![3-light-show-1/icon.png](https://static4.castor-informatique.fr/contests/quickpi_parcours_a_1p.1585649693/3-light-show-1/icon.png)\n",
    "Lisez la présentation de [la boucle de répétition avec l'instruction `for`](#boucles_for), des [LEDs](#leds) et de [la gestion du temps](#sleep)."
   ]
  },
  {
   "cell_type": "markdown",
   "metadata": {},
   "source": [
    "Écrire un programme qui dans l'ordre :\n",
    "\n",
    "- Allume la LED rouge pendant 1s\n",
    "- Fait clignoter la LED bleue 5 fois : 500ms allumée puis 500ms éteinte.\n",
    "- Allume la LED verte et la laisse allumée."
   ]
  },
  {
   "cell_type": "code",
   "execution_count": null,
   "metadata": {},
   "outputs": [],
   "source": [
    "from quickpi import *\n"
   ]
  },
  {
   "cell_type": "markdown",
   "metadata": {},
   "source": [
    "Écrire un programme qui dans l'ordre :\n",
    "\n",
    "- Allume la LED rouge pendant 1s\n",
    "- Fait clignoter la LED verte 5 fois : 500ms allumée puis 500ms éteinte.\n",
    "- Fait clignoter la LED bleue 3 fois : 500ms allumée puis 500ms éteinte.\n",
    "- Rallume la LED verte et la laisse allumée."
   ]
  },
  {
   "cell_type": "code",
   "execution_count": null,
   "metadata": {},
   "outputs": [],
   "source": [
    "from quickpi import *\n",
    "   "
   ]
  },
  {
   "cell_type": "markdown",
   "metadata": {},
   "source": [
    "Écrire un programme qui joue la séquence suivante, où chaque tiret représente un état allumé de 500ms, et chaque point un état éteint de 500ms.\n",
    "\n",
    "Notez que les deux lignes se jouent en même temps :\n",
    "```\n",
    "- LED rouge : -.-.-.--.-.-.\n",
    "- LED verte : .......------\n",
    "```\n",
    "Les LEDs doivent être éteintes à la fin du programme."
   ]
  },
  {
   "cell_type": "code",
   "execution_count": null,
   "metadata": {},
   "outputs": [],
   "source": [
    "from quickpi import *\n"
   ]
  },
  {
   "cell_type": "markdown",
   "metadata": {},
   "source": [
    "<a id =\"direction\"></a>\n",
    "## Quelle direction ?\n",
    "![4-afficher-la-direction/icon.png](https://static4.castor-informatique.fr/contests/quickpi_parcours_a_1p.1585649693/4-afficher-la-direction/icon.png)\n",
    "Lisez la présentation de : [la boucle infinie](#boucle_infinie), [l'instruction if](#if), [l'écran](#ecran), [le bouton poussoir](#bouton_poussoir) et [la manette](#manette)."
   ]
  },
  {
   "cell_type": "markdown",
   "metadata": {},
   "source": [
    "Écrire un programme qui laisse l'écran vide au début, puis affiche le texte \"Bonjour\" dès que l'on appuie sur le bouton, et le laisse affiché.\n",
    "\n",
    "Votre programme devra boucler indéfiniment, et tester en permanence si le bouton est enfoncé. Notez qu'un texte affiché à l'écran y reste jusqu'à ce que l'on affiche autre chose."
   ]
  },
  {
   "cell_type": "code",
   "execution_count": null,
   "metadata": {},
   "outputs": [],
   "source": [
    "from quickpi import *\n"
   ]
  },
  {
   "cell_type": "markdown",
   "metadata": {},
   "source": [
    "Écrire un programme qui :\n",
    "\n",
    "- affiche le texte \"Appuyez\"\n",
    "- affiche le texte \"Merci\" dès que l'on appuie sur le bouton, et le laisse affiché."
   ]
  },
  {
   "cell_type": "code",
   "execution_count": null,
   "metadata": {},
   "outputs": [],
   "source": [
    "from quickpi import *\n"
   ]
  },
  {
   "cell_type": "markdown",
   "metadata": {},
   "source": [
    "Écrire un programme qui :\n",
    "\n",
    "- affiche le texte \"Direction ?\" dès le début\n",
    "- puis lorsque l'on appuie sur une direction, affiche le texte \"Haut\", \"Droite\", \"Bas\" ou \"Gauche\" selon la direction appuyée.\n",
    "\n"
   ]
  },
  {
   "cell_type": "code",
   "execution_count": null,
   "metadata": {},
   "outputs": [],
   "source": [
    "from quickpi import *\n"
   ]
  },
  {
   "cell_type": "markdown",
   "metadata": {},
   "source": [
    "<a id =\"instrument\"></a>\n",
    "## Instrument\n",
    "![5-instrument-de-musique/icon.png](https://static4.castor-informatique.fr/contests/quickpi_parcours_a_1p.1585649693/5-instrument-de-musique/icon.png)\n",
    "Lisez la présentation de [la boucle infinie](#boucle_infinie), de [l'instruction if](#if), du [capteur de distance](#capteur_distance) et du [buzzer](#buzzer)."
   ]
  },
  {
   "cell_type": "markdown",
   "metadata": {},
   "source": [
    "Écrire un programme qui allume le buzzer quand le capteur détecte un objet à moins de 100cm, et arrête le buzzer dès qu'il n'en détecte plus."
   ]
  },
  {
   "cell_type": "code",
   "execution_count": null,
   "metadata": {},
   "outputs": [],
   "source": [
    "from quickpi import *\n"
   ]
  },
  {
   "cell_type": "markdown",
   "metadata": {},
   "source": [
    "Écrire un programme qui allume le buzzer quand le capteur détecte un objet à moins de 500cm.\n",
    "\n",
    "Le buzzer doit jouer un son à une fréquence égale à la distance de l'objet en centimètres. Il doit être éteint s'il n'y a pas d'objet à moins de 500cm."
   ]
  },
  {
   "cell_type": "code",
   "execution_count": null,
   "metadata": {},
   "outputs": [],
   "source": [
    "from quickpi import *\n"
   ]
  },
  {
   "cell_type": "markdown",
   "metadata": {},
   "source": [
    "Modifier le programme de la version précédente, avec la différence suivante : lorsque le bouton est enfoncé, la fréquence du buzzer doit être doublée."
   ]
  },
  {
   "cell_type": "code",
   "execution_count": null,
   "metadata": {},
   "outputs": [],
   "source": [
    "from quickpi import *\n"
   ]
  },
  {
   "cell_type": "markdown",
   "metadata": {},
   "source": [
    "<a id =\"show_lumineux_2\"></a>\n",
    "## Show Lumineux 2 :\n",
    "![6-light-show-2/icon.png](https://static4.castor-informatique.fr/contests/quickpi_parcours_a_1p.1585649693/6-light-show-2/icon.png)\n",
    "Lisez la présentation [des boucles imbriquées avec l'instruction for](#boucles_imbriquees), des [LEDs](#leds) et de [la gestion du temps](#sleep)."
   ]
  },
  {
   "cell_type": "markdown",
   "metadata": {},
   "source": [
    "Écrire un programme qui fait 3 fois ces deux étapes :\n",
    "\n",
    "- Faire clignoter la LED rouge 3 fois (200ms allumée puis 200ms éteinte)\n",
    "- Attendre 1 seconde."
   ]
  },
  {
   "cell_type": "code",
   "execution_count": null,
   "metadata": {},
   "outputs": [],
   "source": [
    "from quickpi import *\n"
   ]
  },
  {
   "cell_type": "markdown",
   "metadata": {},
   "source": [
    "Écrire un programme qui fait 3 fois ces deux étapes :\n",
    "\n",
    "- Clignoter la LED rouge 3 fois (200ms allumée puis 200ms éteinte)\n",
    "- Clignoter la LED verte 3 fois (200ms allumée puis 200ms éteinte)\n",
    "- Clignoter la LED bleue 3 fois (200ms allumée puis 200ms éteinte)\n",
    "- Attendre 1 seconde."
   ]
  },
  {
   "cell_type": "code",
   "execution_count": null,
   "metadata": {},
   "outputs": [],
   "source": [
    "from quickpi import *\n"
   ]
  },
  {
   "cell_type": "markdown",
   "metadata": {},
   "source": [
    "Écrire un programme qui fait en même temps, et pendant 4 secondes au total :\n",
    "\n",
    "- Clignoter la LED rouge : 1s allumée puis 1s éteinte\n",
    "- Clignoter la LED verte : 500ms allumée puis 500ms éteinte\n",
    "- Clignoter la LED bleue : 250ms allumée puis 250ms éteinte"
   ]
  },
  {
   "cell_type": "code",
   "execution_count": null,
   "metadata": {},
   "outputs": [],
   "source": [
    "from quickpi import *\n"
   ]
  },
  {
   "cell_type": "markdown",
   "metadata": {},
   "source": [
    "<a id =\"avertisseur\"></a>\n",
    "## Avertisseur :\n",
    "![7-avertisseur-de-recul/icon.png](https://static4.castor-informatique.fr/contests/quickpi_parcours_a_1p.1585649693/7-avertisseur-de-recul/icon.png)\n",
    "\n",
    "Lisez la présentation de [la boucle infinie](#boucle_infinie), de [l'instruction if/else](#if/else), de [la boucle de répétition avec l'instruction `for`](#boucles_for), du [capteur de distance](#capteur_distance), du [buzzer](#buzzer), et de [la gestion du temps](#sleep)."
   ]
  },
  {
   "cell_type": "markdown",
   "metadata": {},
   "source": [
    "Écrire un programme qui, dès qu'un objet passe à moins de 30cm du capteur, fait dans l'ordre :\n",
    "- Jouer 3 bips de 100ms espacés de 100ms\n",
    "- Attendre 500ms"
   ]
  },
  {
   "cell_type": "code",
   "execution_count": null,
   "metadata": {},
   "outputs": [],
   "source": [
    "from quickpi import *\n"
   ]
  },
  {
   "cell_type": "markdown",
   "metadata": {},
   "source": [
    "Modifiez le programme de la version précédente, pour qu'il arrête de jouer des bips dès qu'il n'y a plus d'objet.\n",
    "\n",
    "S'il y a un bip en cours, il se termine, mais on ne joue pas le suivant."
   ]
  },
  {
   "cell_type": "code",
   "execution_count": null,
   "metadata": {},
   "outputs": [],
   "source": [
    "from quickpi import *\n"
   ]
  },
  {
   "cell_type": "markdown",
   "metadata": {},
   "source": [
    "Modifiez le programme de la version précédente, pour que lorsqu'un objet passe à moins de 10cm du capteur alors qu'une série de bips n'est pas en cours, alors il joue un bip en continu.\n",
    "\n",
    "Au dessus de cette distance, il doit faire comme dans la version précédente."
   ]
  },
  {
   "cell_type": "code",
   "execution_count": null,
   "metadata": {},
   "outputs": [],
   "source": [
    "from quickpi import *\n"
   ]
  },
  {
   "cell_type": "markdown",
   "metadata": {},
   "source": [
    "<a id=\"servo_chronometre\"></a>\n",
    "##  Servo chronométré :\n",
    "![8-servo-chronometre/icon.png](https://static4.castor-informatique.fr/contests/quickpi_parcours_a_1p.1585649693/8-servo-chronometre/icon.png)\n",
    "Lisez la présentation du [servomoteur](#servomoteur), de [la boucle infinie](#boucle_infinie), de [l'instruction if/else](#if/else), de [la boucle de répétition avec l'instruction `for`](#boucles_for), de [la manette](#manette), du [buzzer](#buzzer), des [LEDs](#leds), et de [la gestion du temps](#sleep)."
   ]
  },
  {
   "cell_type": "markdown",
   "metadata": {},
   "source": [
    "Écrire un programme qui met l'angle du servomoteur à 0°, puis lorsque l'on appuie sur le bouton :\n",
    "\n",
    "- Augmente l'angle 18 fois de 10°, toutes les 50ms\n",
    "- Joue un bip pendant 500ms\n",
    "- Remet l'angle à 0°"
   ]
  },
  {
   "cell_type": "code",
   "execution_count": null,
   "metadata": {},
   "outputs": [],
   "source": [
    "from quickpi import *\n"
   ]
  },
  {
   "cell_type": "markdown",
   "metadata": {},
   "source": [
    "Écrire un programme qui met le servomoteur à 10°, puis lorsque que le stick est appuyé :\n",
    "\n",
    "- À gauche : diminue de 2° puis attend 50ms\n",
    "- À droite : augmente de 2° puis attend 50ms\n",
    "\n",
    "Le programme doit ignorer les actions qui ne gardent pas l'angle entre 10° et 170°."
   ]
  },
  {
   "cell_type": "code",
   "execution_count": null,
   "metadata": {},
   "outputs": [],
   "source": [
    "from quickpi import *\n"
   ]
  },
  {
   "cell_type": "markdown",
   "metadata": {},
   "source": [
    "Modifier le programme de la version précédente, pour qu'il arrête au bout de 5s, puis selon l'angle du servo :\n",
    "\n",
    "- S'il vaut 90°, allume la LED verte\n",
    "- S'il est inférieur à 90°, allume la LED rouge\n",
    "- S'il est supérieur à 90°, allume la LED bleue\n",
    "\n",
    "Le programme doit ensuite attendre 2s, puis éteindre les LEDs et tout recommencer."
   ]
  },
  {
   "cell_type": "code",
   "execution_count": null,
   "metadata": {},
   "outputs": [],
   "source": [
    "from quickpi import *\n"
   ]
  },
  {
   "cell_type": "markdown",
   "metadata": {},
   "source": [
    "# Les instructions utiles en Python :"
   ]
  },
  {
   "cell_type": "markdown",
   "metadata": {},
   "source": [
    "<a id =\"programmer_python\"></a>\n",
    "## Programmation :\n",
    "\n",
    "Python permet de créer des programmes à partir d'instructions.\n",
    "\n",
    "Par exemple, l'instruction `droite()` peut faire déplacer un robot d'une case vers la droite.\n",
    "\n",
    "Un programme formé d'instructions les unes en dessous des autres, exécute ces instructions l'une après l'autre.\n",
    "```python\n",
    "from robot import *\n",
    "\n",
    "droite()\n",
    "haut()\n",
    "droite()\n",
    "```\n",
    "Le programme ci-dessus fait déplacer le robot vers la droite, puis vers le haut, puis de nouveau vers la droite.\n",
    "\n",
    "**>>> [Mélodie](#melodie)**"
   ]
  },
  {
   "cell_type": "markdown",
   "metadata": {},
   "source": [
    "<a id =\"if\"></a>\n",
    "### l'instruction if :\n",
    "\n",
    "Avec l'instruction if, on peut exécuter une instruction uniquement dans certaines conditions.\n",
    "```python\n",
    "if caseMarquee():\n",
    "    peindre()\n",
    "```\n",
    "Par exemple, le programme ci-dessus teste le contenu de la case du robot, et ne la peint que si elle est marquée.\n",
    "\n",
    "On peut aussi placer plusieurs instructions dans une instruction if, comme illustré ci-dessous :\n",
    "\n",
    "```python\n",
    "if caseMarquee():\n",
    "    peindre()\n",
    "    droite()\n",
    "```\n",
    "**>>> [Quelle direction ?](#direction)   >>>  [Intrument](#instrument)**"
   ]
  },
  {
   "cell_type": "markdown",
   "metadata": {},
   "source": [
    "<a id =\"if/else\"></a>\n",
    "### l'instruction if/else\n",
    "\n",
    "On peut utiliser une instruction if/else, pour effectuer des opérations différentes selon la situation. Par exemple :\n",
    "```python\n",
    "if caseMarquee():\n",
    "    peindre()\n",
    "else:\n",
    "    haut()\n",
    "```\n",
    "Dans le programme ci-dessus, si la case du robot est marquée, le robot la peint, sinon il ne la peint pas mais se déplace vers le haut.\n",
    "\n",
    "**>>> [Instrument](#instrument)  >>>  [Avertisseur](#avertisseur) >>>  [Servo_chronométré](#servo_chronometre)**"
   ]
  },
  {
   "cell_type": "markdown",
   "metadata": {},
   "source": [
    "<a id =\"boucle_infinie\"></a>\n",
    "## La boucle infinie :\n",
    "\n",
    "On peut utiliser l'instruction `while True :` pour répéter sans fin une séquence d'instructions, comme dans l'exemple ci-dessous, qui allume et éteint une LED toutes les 500 millisecondes :\n",
    "```python\n",
    "while True :\n",
    "    allumerLED()\n",
    "    attendre(1000)\n",
    "    eteindreLED()\n",
    "    attendre(1000)\n",
    "```\n",
    "L'instruction `while True :` exécute en boucle les instructions placées en dessous, indentées vers la droite, sans s'arrêter, jusqu'à ce que l'on interrompe l'exécution du programme.\n",
    "\n",
    "Ce type de boucle est utile pour les programmes qui ne doivent jamais s'arrêter, par exemple le programme d'un système d'alarme, qui doit être actif en permanence.\n",
    "\n",
    "**>>>  [Quelle direction ?](#direction)  >>>  [Intrument](#instrument)  >>>  [Avertisseur](#avertisseur) >>>  [Servo_chronométré](#servo_chronometre)**"
   ]
  },
  {
   "cell_type": "markdown",
   "metadata": {},
   "source": [
    "<a id =\"boucles_for\"></a>\n",
    "## Boucle de répétition avec l'instruction `for` :\n",
    "\n",
    "Pour exécuter plusieurs fois la même instruction, on peut utiliser l'instruction `for loop in range(...)`.\n",
    "\n",
    "Par exemple, plutôt que de mettre 5 fois la même instruction :\n",
    "```python\n",
    "droite()\n",
    "droite()\n",
    "droite()\n",
    "droite()\n",
    "droite()\n",
    "```\n",
    "On peut écrire la boucle suivante :\n",
    "```python\n",
    "for loop in range(5):\n",
    "    droite()\n",
    "```   \n",
    "On peut aussi mettre plusieurs instructions dans une boucle :\n",
    "```python\n",
    "for loop in range(5):\n",
    "    droite()\n",
    "    haut()\n",
    "```\n",
    "**>>>  [Alternance](#alternance) >>> [Show lumineux 1](#show_lumineux_1)  >>>  [Avertisseur](#avertisseur) >>>  [Servo_chronométré](#servo_chronometre)**"
   ]
  },
  {
   "cell_type": "markdown",
   "metadata": {},
   "source": [
    "<a id =\"boucles_imbriquees\"></a>\n",
    "### Boucles imbriquées :\n",
    "\n",
    "Il est possible d'utiliser des boucles imbriquées, c'est-à-dire que l'on peut mettre des boucles for, à l'intérieur d'autres boucles for.\n",
    "\n",
    "Par exemple :\n",
    "```python\n",
    "for loop in range(5):\n",
    "    droite()\n",
    "    for loop in range(3):\n",
    "        haut()\n",
    "    droite()\n",
    "```    \n",
    "Ce programme répétera 5 fois un déplacement d'1 case vers la droite, 3 cases vers le haut et 1 case vers la droite.\n",
    "\n",
    "**>>>  [Show lumineux 2](#show_lumineux_2)**"
   ]
  },
  {
   "cell_type": "markdown",
   "metadata": {},
   "source": [
    "<a id =\"interface\"></a>\n",
    "# L'interface FranceIOI :\n",
    "\n",
    "L'interface comporte deux onglets EXPÉRIMENTER et VALIDER, qui correspondent à deux modes d'utilisation différents.\n",
    "\n",
    "<img src=\"https://static4.castor-informatique.fr/help/quickpi_img/experimenter_p.png\" alt=\"experimenter_p.png\" title=\"experimenter_p.png\" width=\"90%\">\n",
    "\n",
    "**>>> [Mélodie](#melodie)**"
   ]
  },
  {
   "cell_type": "markdown",
   "metadata": {},
   "source": [
    "<a id =\"ecrire\"></a>\n",
    "## Ecrire un programme :\n",
    "\n",
    "C'est à droite dans l'éditeur que vous allez écrire vos programmes en langage python.\n",
    "\n",
    "Votre programme doit toujours commencer par la ligne `from quickpi import *`.\n",
    "\n",
    "Cette ligne de code permet de pouvoir utiliser les fonctions spécialement définies pour le module QuickPi.\n",
    "\n",
    "Les fonctions et mots clés disponibles sont répertoriés dans des listes déroulantes.\n",
    "\n",
    "Ensuite, vous écrivez les instructions de votre programme les unes en-dessous des autres.\n",
    "\n",
    "**>>> [Mélodie](#melodie)**"
   ]
  },
  {
   "cell_type": "markdown",
   "metadata": {},
   "source": [
    "<a id =\"tester\"></a>\n",
    "## Tester un programme :\n",
    "\n",
    "L'onglet EXPÉRIMENTER est en quelque sotre un \"bac à sable\". Il vous permet de mener des expérimentations avec les composants et les fonctions disponibles dans l'interface.\n",
    "\n",
    "Un ou des composants sont mis à votre disposition sur l'interface.\n",
    "\n",
    "<img src=\"https://static4.castor-informatique.fr/help/quickpi_img/onglet_experimenter.png\" alt=\"onglet_experimenter.png\" title=\"onglet_experimenter.png\" width=\"30%\">\n",
    "\n",
    "Vous pouvez tester ces composants en cliquant dessus pour changer leur état.\n",
    "\n",
    "Exemple : cliquer sur une LED pour l'allumer.\n",
    "\n",
    "Pour exécuter votre programme, cliquez sur le bouton  en bas à gauche de l'écran.\n",
    "\n",
    "<img src=\"https://static4.castor-informatique.fr/help/quickpi_img/interface_p.png\" alt=\"interface_p.png\" title=\"interface_p.png\" width=\"90%\">\n",
    "\n",
    "N'importe quel programme que vous concevez est exécuté entièrement, avec une simulation visuelle ou auditive du fonctionnement des composants.\n",
    "\n",
    "**>>> [Mélodie](#melodie)**"
   ]
  },
  {
   "cell_type": "markdown",
   "metadata": {},
   "source": [
    "<a id =\"valider\"></a>\n",
    "## Valider un programme :\n",
    "\t\n",
    "Votre mission consiste à concevoir un programme qui permet d'effectuer la tâche demandée dans l'énoncé.\n",
    "\n",
    "L'onglet VALIDER permet une validation automatique des programmes soumis : grâce à un test, le programme présent dans l'éditeur est automatiquement évalué.\n",
    "\n",
    "Voici comment fonctionne ce test :\n",
    "\n",
    "<img src=\"https://static4.castor-informatique.fr/help/quickpi_img/valider_p.png\" alt=\"valider_p.png\" title=\"valider_p.png\" width=\"90%\"> \n",
    "\n",
    "Une ligne du temps (en secondes) est présente pour chaque composant disponible.\n",
    "\n",
    "Cette ligne du temps apparaît en gris lorsque le composant est activé pendant la période, sinon elle n'apparaît pas.\n",
    "\n",
    "Au fur et à mesure de l'exécution du programme, un curseur se déplace horizontalement et vérifie que l'état des composants est conforme à ce qui est attendu.\n",
    "\n",
    "Dans l'exemple, la LED doit être initialement éteinte (état OFF), puis allumée (état ON, ligne grise) entre les instants 0 et 3, puis à nouveau éteinte à l'instant 3.\n",
    "\n",
    "**>>> [Mélodie](#melodie)**"
   ]
  },
  {
   "cell_type": "markdown",
   "metadata": {},
   "source": [
    "# Les fonctions utiles des composants :"
   ]
  },
  {
   "cell_type": "markdown",
   "metadata": {},
   "source": [
    "<a id =\"sleep\"></a>\n",
    "## Gestion du temps :\n",
    "\n",
    "<img src=\"https://static4.castor-informatique.fr/help/quickpi_img/time.png\" alt=\"time.png\" title=\"time.png\" width=\"15%\">\n",
    "\n",
    "- `sleep(milliseconds)`\n",
    "\n",
    "    Cette fonction permet de stopper l'exécution du programme pendant une durée entrée en paramètre.\n",
    "    \n",
    "    Cette durée est exprimée en millisecondes.\n",
    "    \n",
    "    Exemple :\n",
    "```python    \n",
    "sleep(1000)\n",
    "```\n",
    "    Pour stopper l'exécution du programme pendant une durée de 1 seconde.\n",
    "    \n",
    "**>>> [Mélodie](#melodie) >>>  [Alternance](#alternance) >>> [Show lumineux 1](#show_lumineux_1) >>> [Show lumineux 2](#show_lumineux_2)  >>>  [Avertisseur](#avertisseur) >>>  [Servo_chronométré](#servo_chronometre)**"
   ]
  },
  {
   "cell_type": "markdown",
   "metadata": {},
   "source": [
    "<a id =\"buzzer\"></a>\n",
    "## Buzzer :\n",
    "Un buzzer est un composant qui produit un son lorsqu'il est soumis à un tension électrique.\n",
    "<a href=\"http://wiki.seeedstudio.com/Grove-Buzzer/\"><img src=\"https://files.seeedstudio.com/wiki/Grove_Buzzer/img/buzzer_s.jpg\"></a>\n",
    "Un buzzer possède deux états :\n",
    "\n",
    "- ON : le buzzer est soumis à une tension électrique, il sonne.\n",
    "![buzzer-ringing.png](https://static4.castor-informatique.fr/modules/img/quickpi/buzzer-ringing.png)\n",
    "- OFF : sans tension électrique, le buzzer reste silencieux.\n",
    "![buzzer.png](https://static4.castor-informatique.fr/modules/img/quickpi/buzzer.png)\n",
    "\n",
    "Le son peut être toujours le même ou être paramétrable.\n",
    "\n",
    "\n",
    "**Fonctions disponibles :**\n",
    "\n",
    "- `turnBuzzerOn()`\n",
    "\n",
    "    Cette fonction permet d'allumer le buzzer.\n",
    "    \n",
    "    \n",
    "- `turnBuzzerOff()`\n",
    "\n",
    "    Cette fonction permet d'éteindre le buzzer.\n",
    "    \n",
    "- `setBuzzerNote(buzzer, frequency)`\n",
    "\n",
    "    Pour le buzzer entré en paramètre, cette fonction permet de produire un son à une fréquence donnée.\n",
    "    \n",
    "    La fréquence est exprimée en Hertz.\n",
    "    \n",
    "    Exemple : \n",
    "```python    \n",
    "setBuzzerNote(\"buzzer1\", 264)\n",
    "```\n",
    "    permet de jouer la note DO.\n",
    "\n",
    "**>>> [Mélodie](#melodie)   >>>  [Intrument](#instrument)  >>>  [Avertisseur](#avertisseur) >>>  [Servo_chronométré](#servo_chronometre)**"
   ]
  },
  {
   "cell_type": "markdown",
   "metadata": {},
   "source": [
    "<a id =\"leds\"></a>\t\n",
    "## LEDs ou diodes électroluminescentes :\n",
    "\n",
    "Une LED est un composant qui émet de la lumière quand il est parcouru par un courant électrique.\n",
    "<a href=\"http://wiki.seeedstudio.com/Grove-Red_LED/\"><img src=\"https://www.gotronic.fr/ar-led-rouge-5-mm-grove-104030005-19005.jpg\"></a>\n",
    "Une LED possède deux états :\n",
    "\n",
    "- ON : le courant traverse la LED, elle est allumée :\n",
    "![ledon-red.png](https://static4.castor-informatique.fr/modules/img/quickpi/ledon-red.png)\n",
    "\n",
    "- OFF : il n'y a pas de courant, la LED est éteinte :\n",
    "![ledoff.png](https://static4.castor-informatique.fr/modules/img/quickpi/ledoff.png)\n",
    "\n",
    "Une LED ne laisse passer le courant électrique que dans un seul sens.\n",
    "\n",
    "On trouve des LEDs qui émettent de la lumière rouge ou de la lumière verte, ou d'autres couleurs encore.\n",
    "\n",
    "**Fonctions disponibles** :\n",
    "\n",
    "- Les fonctions `turnLedOn()` et `turnLedOff()` permettent respectivement d'allumer et d'éteindre une LED.\n",
    "\n",
    "    Elles ne peuvent servir que lorsqu'il n'y a qu'une seule LED utilisée.\n",
    "\n",
    "\n",
    "- `setLedState(led,state)` :\n",
    "\n",
    "    Cette fonction permet d'allumer ou éteindre une LED.\n",
    "    \n",
    "    Elle prend en paramètre le nom de la LED et l'état à considérer, True pour l'allumer, False pour l'éteindre.\n",
    "    \n",
    "    Exemple :\n",
    "```python    \n",
    "setLedState(\"led1\",True)\n",
    "```\n",
    "\n",
    "- `toggleLedState(led)` :\n",
    "\n",
    "    Cette fonction permet d'inverser l'état de la LED entrée en paramètre sous forme de chaine de caractères.\n",
    "    \n",
    "    Exemple :\n",
    "```python    \n",
    "toggleLedState(\"led1\")\n",
    "```\n",
    "\n",
    "**>>>  [Alternance](#alternance) >>> [Show lumineux 1](#show_lumineux_1) >>> [Show lumineux 2](#show_lumineux_2) >>>  [Servo_chronométré](#servo_chronometre)**"
   ]
  },
  {
   "cell_type": "markdown",
   "metadata": {},
   "source": [
    "<a id =\"bouton_poussoir\"></a>\n",
    "## Bouton poussoir\n",
    "<a href=\"http://wiki.seeedstudio.com/Grove-Button/\"><img src=\"https://www.gotronic.fr/ar-module-bouton-grove-101020003-19052.jpg\"></a>\n",
    "Un bouton poussoir est un élément qui possède deux états, relevé et enfoncé.\n",
    "- ON : le bouton est enfoncé :\n",
    "![buttonon.png](https://static4.castor-informatique.fr/modules/img/quickpi/buttonon.png)\n",
    "- OFF : le bouton est relevé :\t\n",
    "![buttonoff.png](https://static4.castor-informatique.fr/modules/img/quickpi/buttonoff.png)\n",
    "\t\n",
    "**Fonctions disponibles :**\n",
    "\n",
    "- `isButtonPressed()`\n",
    "\n",
    "    Cette fonction renvoie `True` si le bouton est enfoncé, et `False` s'il est relevé.\n",
    "\n",
    "    Cette fonction est utilisée seulement lorsqu'il n'y a qu'un seul bouton pressoir sur le montage.\n",
    "    \n",
    "<br>   \n",
    "\n",
    "- `isButtonPressed(button)`\n",
    "\n",
    "    Pour le bouton entré en paramètre sous forme de chaine de caractères, cette fonction renvoie `True` si le bouton est enfoncé, et `False` s'il est relevé.\n",
    "    \n",
    "    Exemple : \n",
    "```python    \n",
    "isButtonPressed(\"button1\")\n",
    "```\t\n",
    "\n",
    "**>>> [Quelle direction ?](#direction)**"
   ]
  },
  {
   "cell_type": "markdown",
   "metadata": {},
   "source": [
    "<a id =\"ecran\"></a>\t\n",
    "## Écran :\n",
    "\n",
    "![screen.png](https://static4.castor-informatique.fr/modules/img/quickpi/screen.png)\n",
    "\n",
    "L'écran de ce module est un petit écran monochrome de (132 x 33) pixels qui permet d'afficher deux lignes de 16 caractères.\n",
    "<a href=\"http://wiki.seeedstudio.com/Grove-16x2_LCD_Series/\"><img src=\"https://www.gotronic.fr/ar-afficheur-lcd-i2c-grove-104020113-28877.jpg\"></a>\n",
    "**Fonctions disponibles** :\n",
    "\n",
    "- `displayText(line1, line2)`\n",
    "\n",
    "    Cette fonction permet d'afficher deux lignes de texte sur un écran.\n",
    "    \n",
    "    Elle prend en paramètre une ou deux lignes à afficher, sous forme de chaines de caractères.\n",
    "    \n",
    "    Le paramètre de la deuxième ligne est optionnel. \n",
    "\n",
    "    Exemple : avec le code \n",
    "```python    \n",
    "displayText(\"Hello\", \"World !\")\n",
    "```\n",
    "    on affiche Hello sur la première ligne, et World ! sur la deuxième ligne de l'écran.\n",
    "\n",
    "    \n",
    "**>>>  [Quelle direction ?](#direction)**"
   ]
  },
  {
   "cell_type": "markdown",
   "metadata": {},
   "source": [
    "<a id =\"manette\"></a>\n",
    "## Manette :\n",
    "![stick.png](https://static4.castor-informatique.fr/modules/img/quickpi/stick.png)\n",
    "\n",
    "Une manette (stick en anglais) est un ensemble de 5 boutons, chacun correspondant à une direction : haut, droite, bas, gauche ou bien centre.\n",
    "\n",
    "Il s'agit d'un seul composant, mais qui se programme comme 5 boutons différents :\n",
    "\n",
    "- \"stick1.up\" pour la direction haut de la manette \"stick1\"\n",
    "- \"stick1.right\" pour la direction droite\n",
    "- \"stick1.down\" pour la direction bas\n",
    "- \"stick1.left\" pour la direction gauche\n",
    "- \"stick1.center\" pour la direction centre\n",
    "\n",
    "Par exemple pour tester si la direction haut est enfoncée, on utilise :\n",
    "```python \n",
    "buttonState(\"stick1.up\")\n",
    "```\n",
    "**>>>  [Quelle direction ?](#direction) >>>  [Servo_chronométré](#servo_chronometre)**"
   ]
  },
  {
   "cell_type": "markdown",
   "metadata": {},
   "source": [
    "<a id =\"capteur_distance\"></a>\t\n",
    "## Capteur de distance :\n",
    "![range.png](https://static4.castor-informatique.fr/modules/img/quickpi/range.png)\n",
    "Ce capteur permet de mesurer la distance sans contact grâce à un capteur à ultrasons ou à laser. Il a une portée de 3 centimètres à 5 mètres.\n",
    "<a href=\"http://wiki.seeedstudio.com/Grove-Ultrasonic_Ranger/\"><img src=\"https://www.gotronic.fr/ar-telemetre-a-ultrasons-grove-101020010-18976.jpg\"></a>\n",
    "**Fonctions disponibles :**\n",
    "- `readDistance(range)`\n",
    "\n",
    "    Cette fonction renvoie la distance captée par le capteur de distance entré en paramètre.\n",
    "    Cette distance est exprimée en centimètres.\n",
    "\n",
    "    Exemple : \n",
    "```python\n",
    "readDistance(\"range1\")\n",
    "```\n",
    "**>>> [Instrument](#instrument)  >>>  [Avertisseur](#avertisseur)**"
   ]
  },
  {
   "cell_type": "markdown",
   "metadata": {},
   "source": [
    "<a id =\"servomoteur\"></a>\t\n",
    "## Servomoteur :\n",
    "![servo-full.png](https://static4.castor-informatique.fr/modules/img/quickpi/servo-full.png)\n",
    "Le Servomoteur est un petit moteur qui peut tourner précisément jusqu'à un angle donné, entre 0 et 180 degrés. On peut l'utiliser pour contrôler la direction des roues d'un petit véhicule, ou pour ouvrir ou fermer une barrière, etc.\n",
    "\n",
    "**Fonctions disponibles :**\n",
    "\n",
    "- `setServoAngle(servo, angle)`\n",
    "\n",
    "    Cette fonction permet de modifier l'angle du servomoteur choisi. L'angle est exprimés en degrés, entre 0 et 180 degrés.\n",
    "\n",
    "    Exemple :\n",
    "```python\n",
    "setServoAngle(\"servo1\", 90)`\n",
    "```\n",
    "\n",
    "\n",
    "- `getServoAngle(servo)`\n",
    "\n",
    "    Ce bloc permet de relire l'angle auquel on a réglé le servomoteur choisi. Ce n'est pas un capteur, mais simplement une mémorisation de la dernière valeur modifiée par une instruction.\n",
    "\n",
    "    On peut par exemple l'utiliser pour augmenter l'angle de 1 degré.\n",
    "\n",
    "    Exemple :\n",
    "```python\n",
    "setServoAngle(\"servo1\", getServoAngle(\"servo1\") + 1)\n",
    "```\n",
    "**>>>  [Servo_chronométré](#servo_chronometre)**"
   ]
  },
  {
   "cell_type": "markdown",
   "metadata": {},
   "source": [
    "****\n"
   ]
  },
  {
   "cell_type": "markdown",
   "metadata": {},
   "source": [
    "<a rel=\"license\" href=\"http://creativecommons.org/licenses/by-sa/4.0/\"><img alt=\"Licence Creative Commons\" style=\"border-width:0\" src=\"https://i.creativecommons.org/l/by-sa/4.0/88x31.png\" /></a><br />Ce document, basé sur du contenu de [France-IOI](http://www.france-ioi.org/), est mis à disposition selon les termes de la <a rel=\"license\" href=\"http://creativecommons.org/licenses/by-sa/4.0/\">Licence Creative Commons Attribution -  Partage dans les Mêmes Conditions 4.0 International</a>.\n",
    "\n",
    "Pour toute question, suggestion ou commentaire : <a href=\"mailto:eric.madec@ecmorlaix.fr\">eric.madec@ecmorlaix.fr</a>"
   ]
  }
 ],
 "metadata": {
  "jupytext": {
   "formats": "ipynb,md"
  },
  "kernelspec": {
   "display_name": "Python 3 (ipykernel)",
   "language": "python",
   "name": "python3"
  },
  "language_info": {
   "codemirror_mode": {
    "name": "ipython",
    "version": 3
   },
   "file_extension": ".py",
   "mimetype": "text/x-python",
   "name": "python",
   "nbconvert_exporter": "python",
   "pygments_lexer": "ipython3",
   "version": "3.10.1"
  },
  "toc": {
   "base_numbering": 1,
   "nav_menu": {},
   "number_sections": true,
   "sideBar": true,
   "skip_h1_title": false,
   "title_cell": "Table of Contents",
   "title_sidebar": "Contents",
   "toc_cell": false,
   "toc_position": {},
   "toc_section_display": true,
   "toc_window_display": false
  },
  "varInspector": {
   "cols": {
    "lenName": 16,
    "lenType": 16,
    "lenVar": 40
   },
   "kernels_config": {
    "python": {
     "delete_cmd_postfix": "",
     "delete_cmd_prefix": "del ",
     "library": "var_list.py",
     "varRefreshCmd": "print(var_dic_list())"
    },
    "r": {
     "delete_cmd_postfix": ") ",
     "delete_cmd_prefix": "rm(",
     "library": "var_list.r",
     "varRefreshCmd": "cat(var_dic_list()) "
    }
   },
   "types_to_exclude": [
    "module",
    "function",
    "builtin_function_or_method",
    "instance",
    "_Feature"
   ],
   "window_display": false
  }
 },
 "nbformat": 4,
 "nbformat_minor": 4
}
